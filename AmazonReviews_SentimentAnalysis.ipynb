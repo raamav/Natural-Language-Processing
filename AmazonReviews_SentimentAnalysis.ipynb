{
  "nbformat": 4,
  "nbformat_minor": 0,
  "metadata": {
    "colab": {
      "name": "AmazonReviews_SentimentAnalysis.ipynb",
      "provenance": [],
      "collapsed_sections": [],
      "authorship_tag": "ABX9TyOde3/WZaa0Gp+Y5Mp4bE81",
      "include_colab_link": true
    },
    "kernelspec": {
      "name": "python3",
      "display_name": "Python 3"
    },
    "accelerator": "GPU",
    "widgets": {
      "application/vnd.jupyter.widget-state+json": {
        "7f17520ba59d461eafda7a8d8e6051f2": {
          "model_module": "@jupyter-widgets/controls",
          "model_name": "HBoxModel",
          "state": {
            "_view_name": "HBoxView",
            "_dom_classes": [],
            "_model_name": "HBoxModel",
            "_view_module": "@jupyter-widgets/controls",
            "_model_module_version": "1.5.0",
            "_view_count": null,
            "_view_module_version": "1.5.0",
            "box_style": "",
            "layout": "IPY_MODEL_6909d825d77046a89dc4fc649d564553",
            "_model_module": "@jupyter-widgets/controls",
            "children": [
              "IPY_MODEL_10c99e0e20654810ad3390dddea160f6",
              "IPY_MODEL_1022aaad2b8a42c4a590a27dbac84ba8"
            ]
          }
        },
        "6909d825d77046a89dc4fc649d564553": {
          "model_module": "@jupyter-widgets/base",
          "model_name": "LayoutModel",
          "state": {
            "_view_name": "LayoutView",
            "grid_template_rows": null,
            "right": null,
            "justify_content": null,
            "_view_module": "@jupyter-widgets/base",
            "overflow": null,
            "_model_module_version": "1.2.0",
            "_view_count": null,
            "flex_flow": null,
            "width": null,
            "min_width": null,
            "border": null,
            "align_items": null,
            "bottom": null,
            "_model_module": "@jupyter-widgets/base",
            "top": null,
            "grid_column": null,
            "overflow_y": null,
            "overflow_x": null,
            "grid_auto_flow": null,
            "grid_area": null,
            "grid_template_columns": null,
            "flex": null,
            "_model_name": "LayoutModel",
            "justify_items": null,
            "grid_row": null,
            "max_height": null,
            "align_content": null,
            "visibility": null,
            "align_self": null,
            "height": null,
            "min_height": null,
            "padding": null,
            "grid_auto_rows": null,
            "grid_gap": null,
            "max_width": null,
            "order": null,
            "_view_module_version": "1.2.0",
            "grid_template_areas": null,
            "object_position": null,
            "object_fit": null,
            "grid_auto_columns": null,
            "margin": null,
            "display": null,
            "left": null
          }
        },
        "10c99e0e20654810ad3390dddea160f6": {
          "model_module": "@jupyter-widgets/controls",
          "model_name": "IntProgressModel",
          "state": {
            "_view_name": "ProgressView",
            "style": "IPY_MODEL_c1c649bcaf664b21947f49980389847e",
            "_dom_classes": [],
            "description": "Dl Completed...: 100%",
            "_model_name": "IntProgressModel",
            "bar_style": "success",
            "max": 1,
            "_view_module": "@jupyter-widgets/controls",
            "_model_module_version": "1.5.0",
            "value": 1,
            "_view_count": null,
            "_view_module_version": "1.5.0",
            "orientation": "horizontal",
            "min": 0,
            "description_tooltip": null,
            "_model_module": "@jupyter-widgets/controls",
            "layout": "IPY_MODEL_3c50dd38d11946d6ba5397f1cd4a32cb"
          }
        },
        "1022aaad2b8a42c4a590a27dbac84ba8": {
          "model_module": "@jupyter-widgets/controls",
          "model_name": "HTMLModel",
          "state": {
            "_view_name": "HTMLView",
            "style": "IPY_MODEL_e9db813fba57496ba98511f081cc05f0",
            "_dom_classes": [],
            "description": "",
            "_model_name": "HTMLModel",
            "placeholder": "​",
            "_view_module": "@jupyter-widgets/controls",
            "_model_module_version": "1.5.0",
            "value": " 1/1 [00:02&lt;00:00,  2.07s/ url]",
            "_view_count": null,
            "_view_module_version": "1.5.0",
            "description_tooltip": null,
            "_model_module": "@jupyter-widgets/controls",
            "layout": "IPY_MODEL_e5ba2037fb79401aabdb50414690ebb5"
          }
        },
        "c1c649bcaf664b21947f49980389847e": {
          "model_module": "@jupyter-widgets/controls",
          "model_name": "ProgressStyleModel",
          "state": {
            "_view_name": "StyleView",
            "_model_name": "ProgressStyleModel",
            "description_width": "initial",
            "_view_module": "@jupyter-widgets/base",
            "_model_module_version": "1.5.0",
            "_view_count": null,
            "_view_module_version": "1.2.0",
            "bar_color": null,
            "_model_module": "@jupyter-widgets/controls"
          }
        },
        "3c50dd38d11946d6ba5397f1cd4a32cb": {
          "model_module": "@jupyter-widgets/base",
          "model_name": "LayoutModel",
          "state": {
            "_view_name": "LayoutView",
            "grid_template_rows": null,
            "right": null,
            "justify_content": null,
            "_view_module": "@jupyter-widgets/base",
            "overflow": null,
            "_model_module_version": "1.2.0",
            "_view_count": null,
            "flex_flow": null,
            "width": null,
            "min_width": null,
            "border": null,
            "align_items": null,
            "bottom": null,
            "_model_module": "@jupyter-widgets/base",
            "top": null,
            "grid_column": null,
            "overflow_y": null,
            "overflow_x": null,
            "grid_auto_flow": null,
            "grid_area": null,
            "grid_template_columns": null,
            "flex": null,
            "_model_name": "LayoutModel",
            "justify_items": null,
            "grid_row": null,
            "max_height": null,
            "align_content": null,
            "visibility": null,
            "align_self": null,
            "height": null,
            "min_height": null,
            "padding": null,
            "grid_auto_rows": null,
            "grid_gap": null,
            "max_width": null,
            "order": null,
            "_view_module_version": "1.2.0",
            "grid_template_areas": null,
            "object_position": null,
            "object_fit": null,
            "grid_auto_columns": null,
            "margin": null,
            "display": null,
            "left": null
          }
        },
        "e9db813fba57496ba98511f081cc05f0": {
          "model_module": "@jupyter-widgets/controls",
          "model_name": "DescriptionStyleModel",
          "state": {
            "_view_name": "StyleView",
            "_model_name": "DescriptionStyleModel",
            "description_width": "",
            "_view_module": "@jupyter-widgets/base",
            "_model_module_version": "1.5.0",
            "_view_count": null,
            "_view_module_version": "1.2.0",
            "_model_module": "@jupyter-widgets/controls"
          }
        },
        "e5ba2037fb79401aabdb50414690ebb5": {
          "model_module": "@jupyter-widgets/base",
          "model_name": "LayoutModel",
          "state": {
            "_view_name": "LayoutView",
            "grid_template_rows": null,
            "right": null,
            "justify_content": null,
            "_view_module": "@jupyter-widgets/base",
            "overflow": null,
            "_model_module_version": "1.2.0",
            "_view_count": null,
            "flex_flow": null,
            "width": null,
            "min_width": null,
            "border": null,
            "align_items": null,
            "bottom": null,
            "_model_module": "@jupyter-widgets/base",
            "top": null,
            "grid_column": null,
            "overflow_y": null,
            "overflow_x": null,
            "grid_auto_flow": null,
            "grid_area": null,
            "grid_template_columns": null,
            "flex": null,
            "_model_name": "LayoutModel",
            "justify_items": null,
            "grid_row": null,
            "max_height": null,
            "align_content": null,
            "visibility": null,
            "align_self": null,
            "height": null,
            "min_height": null,
            "padding": null,
            "grid_auto_rows": null,
            "grid_gap": null,
            "max_width": null,
            "order": null,
            "_view_module_version": "1.2.0",
            "grid_template_areas": null,
            "object_position": null,
            "object_fit": null,
            "grid_auto_columns": null,
            "margin": null,
            "display": null,
            "left": null
          }
        },
        "901e140df2ee4223b12552edc4ea9438": {
          "model_module": "@jupyter-widgets/controls",
          "model_name": "HBoxModel",
          "state": {
            "_view_name": "HBoxView",
            "_dom_classes": [],
            "_model_name": "HBoxModel",
            "_view_module": "@jupyter-widgets/controls",
            "_model_module_version": "1.5.0",
            "_view_count": null,
            "_view_module_version": "1.5.0",
            "box_style": "",
            "layout": "IPY_MODEL_7f02010f4a1a41eca0a72155840f8108",
            "_model_module": "@jupyter-widgets/controls",
            "children": [
              "IPY_MODEL_b6c19f658b9f434e874eba4d25db383f",
              "IPY_MODEL_c338f3f07dd744d2bf65ef9c7249df43"
            ]
          }
        },
        "7f02010f4a1a41eca0a72155840f8108": {
          "model_module": "@jupyter-widgets/base",
          "model_name": "LayoutModel",
          "state": {
            "_view_name": "LayoutView",
            "grid_template_rows": null,
            "right": null,
            "justify_content": null,
            "_view_module": "@jupyter-widgets/base",
            "overflow": null,
            "_model_module_version": "1.2.0",
            "_view_count": null,
            "flex_flow": null,
            "width": null,
            "min_width": null,
            "border": null,
            "align_items": null,
            "bottom": null,
            "_model_module": "@jupyter-widgets/base",
            "top": null,
            "grid_column": null,
            "overflow_y": null,
            "overflow_x": null,
            "grid_auto_flow": null,
            "grid_area": null,
            "grid_template_columns": null,
            "flex": null,
            "_model_name": "LayoutModel",
            "justify_items": null,
            "grid_row": null,
            "max_height": null,
            "align_content": null,
            "visibility": null,
            "align_self": null,
            "height": null,
            "min_height": null,
            "padding": null,
            "grid_auto_rows": null,
            "grid_gap": null,
            "max_width": null,
            "order": null,
            "_view_module_version": "1.2.0",
            "grid_template_areas": null,
            "object_position": null,
            "object_fit": null,
            "grid_auto_columns": null,
            "margin": null,
            "display": null,
            "left": null
          }
        },
        "b6c19f658b9f434e874eba4d25db383f": {
          "model_module": "@jupyter-widgets/controls",
          "model_name": "IntProgressModel",
          "state": {
            "_view_name": "ProgressView",
            "style": "IPY_MODEL_cf697288ebbf47e5b34ffbceebe0b566",
            "_dom_classes": [],
            "description": "Dl Size...: 100%",
            "_model_name": "IntProgressModel",
            "bar_style": "success",
            "max": 1,
            "_view_module": "@jupyter-widgets/controls",
            "_model_module_version": "1.5.0",
            "value": 1,
            "_view_count": null,
            "_view_module_version": "1.5.0",
            "orientation": "horizontal",
            "min": 0,
            "description_tooltip": null,
            "_model_module": "@jupyter-widgets/controls",
            "layout": "IPY_MODEL_847dd841bf914f26a3877ed1be8eecf4"
          }
        },
        "c338f3f07dd744d2bf65ef9c7249df43": {
          "model_module": "@jupyter-widgets/controls",
          "model_name": "HTMLModel",
          "state": {
            "_view_name": "HTMLView",
            "style": "IPY_MODEL_22cb0026b4be4d92b44eb0965690c725",
            "_dom_classes": [],
            "description": "",
            "_model_name": "HTMLModel",
            "placeholder": "​",
            "_view_module": "@jupyter-widgets/controls",
            "_model_module_version": "1.5.0",
            "value": " 21/21 [00:02&lt;00:00, 10.33 MiB/s]",
            "_view_count": null,
            "_view_module_version": "1.5.0",
            "description_tooltip": null,
            "_model_module": "@jupyter-widgets/controls",
            "layout": "IPY_MODEL_2c13664acbd54fc4ba1e11a8fef314b5"
          }
        },
        "cf697288ebbf47e5b34ffbceebe0b566": {
          "model_module": "@jupyter-widgets/controls",
          "model_name": "ProgressStyleModel",
          "state": {
            "_view_name": "StyleView",
            "_model_name": "ProgressStyleModel",
            "description_width": "initial",
            "_view_module": "@jupyter-widgets/base",
            "_model_module_version": "1.5.0",
            "_view_count": null,
            "_view_module_version": "1.2.0",
            "bar_color": null,
            "_model_module": "@jupyter-widgets/controls"
          }
        },
        "847dd841bf914f26a3877ed1be8eecf4": {
          "model_module": "@jupyter-widgets/base",
          "model_name": "LayoutModel",
          "state": {
            "_view_name": "LayoutView",
            "grid_template_rows": null,
            "right": null,
            "justify_content": null,
            "_view_module": "@jupyter-widgets/base",
            "overflow": null,
            "_model_module_version": "1.2.0",
            "_view_count": null,
            "flex_flow": null,
            "width": null,
            "min_width": null,
            "border": null,
            "align_items": null,
            "bottom": null,
            "_model_module": "@jupyter-widgets/base",
            "top": null,
            "grid_column": null,
            "overflow_y": null,
            "overflow_x": null,
            "grid_auto_flow": null,
            "grid_area": null,
            "grid_template_columns": null,
            "flex": null,
            "_model_name": "LayoutModel",
            "justify_items": null,
            "grid_row": null,
            "max_height": null,
            "align_content": null,
            "visibility": null,
            "align_self": null,
            "height": null,
            "min_height": null,
            "padding": null,
            "grid_auto_rows": null,
            "grid_gap": null,
            "max_width": null,
            "order": null,
            "_view_module_version": "1.2.0",
            "grid_template_areas": null,
            "object_position": null,
            "object_fit": null,
            "grid_auto_columns": null,
            "margin": null,
            "display": null,
            "left": null
          }
        },
        "22cb0026b4be4d92b44eb0965690c725": {
          "model_module": "@jupyter-widgets/controls",
          "model_name": "DescriptionStyleModel",
          "state": {
            "_view_name": "StyleView",
            "_model_name": "DescriptionStyleModel",
            "description_width": "",
            "_view_module": "@jupyter-widgets/base",
            "_model_module_version": "1.5.0",
            "_view_count": null,
            "_view_module_version": "1.2.0",
            "_model_module": "@jupyter-widgets/controls"
          }
        },
        "2c13664acbd54fc4ba1e11a8fef314b5": {
          "model_module": "@jupyter-widgets/base",
          "model_name": "LayoutModel",
          "state": {
            "_view_name": "LayoutView",
            "grid_template_rows": null,
            "right": null,
            "justify_content": null,
            "_view_module": "@jupyter-widgets/base",
            "overflow": null,
            "_model_module_version": "1.2.0",
            "_view_count": null,
            "flex_flow": null,
            "width": null,
            "min_width": null,
            "border": null,
            "align_items": null,
            "bottom": null,
            "_model_module": "@jupyter-widgets/base",
            "top": null,
            "grid_column": null,
            "overflow_y": null,
            "overflow_x": null,
            "grid_auto_flow": null,
            "grid_area": null,
            "grid_template_columns": null,
            "flex": null,
            "_model_name": "LayoutModel",
            "justify_items": null,
            "grid_row": null,
            "max_height": null,
            "align_content": null,
            "visibility": null,
            "align_self": null,
            "height": null,
            "min_height": null,
            "padding": null,
            "grid_auto_rows": null,
            "grid_gap": null,
            "max_width": null,
            "order": null,
            "_view_module_version": "1.2.0",
            "grid_template_areas": null,
            "object_position": null,
            "object_fit": null,
            "grid_auto_columns": null,
            "margin": null,
            "display": null,
            "left": null
          }
        },
        "953e24e475af493c84833e34ad6db54f": {
          "model_module": "@jupyter-widgets/controls",
          "model_name": "HBoxModel",
          "state": {
            "_view_name": "HBoxView",
            "_dom_classes": [],
            "_model_name": "HBoxModel",
            "_view_module": "@jupyter-widgets/controls",
            "_model_module_version": "1.5.0",
            "_view_count": null,
            "_view_module_version": "1.5.0",
            "box_style": "",
            "layout": "IPY_MODEL_161d81a6214c453fb4b17904a985441d",
            "_model_module": "@jupyter-widgets/controls",
            "children": [
              "IPY_MODEL_427433f1914e44608febc1e23ef5265d",
              "IPY_MODEL_3ba74bef281643fdba53c87b1c70d902"
            ]
          }
        },
        "161d81a6214c453fb4b17904a985441d": {
          "model_module": "@jupyter-widgets/base",
          "model_name": "LayoutModel",
          "state": {
            "_view_name": "LayoutView",
            "grid_template_rows": null,
            "right": null,
            "justify_content": null,
            "_view_module": "@jupyter-widgets/base",
            "overflow": null,
            "_model_module_version": "1.2.0",
            "_view_count": null,
            "flex_flow": null,
            "width": null,
            "min_width": null,
            "border": null,
            "align_items": null,
            "bottom": null,
            "_model_module": "@jupyter-widgets/base",
            "top": null,
            "grid_column": null,
            "overflow_y": null,
            "overflow_x": null,
            "grid_auto_flow": null,
            "grid_area": null,
            "grid_template_columns": null,
            "flex": null,
            "_model_name": "LayoutModel",
            "justify_items": null,
            "grid_row": null,
            "max_height": null,
            "align_content": null,
            "visibility": null,
            "align_self": null,
            "height": null,
            "min_height": null,
            "padding": null,
            "grid_auto_rows": null,
            "grid_gap": null,
            "max_width": null,
            "order": null,
            "_view_module_version": "1.2.0",
            "grid_template_areas": null,
            "object_position": null,
            "object_fit": null,
            "grid_auto_columns": null,
            "margin": null,
            "display": null,
            "left": null
          }
        },
        "427433f1914e44608febc1e23ef5265d": {
          "model_module": "@jupyter-widgets/controls",
          "model_name": "IntProgressModel",
          "state": {
            "_view_name": "ProgressView",
            "style": "IPY_MODEL_7ffca6f561e9409ba517e3a4bece17a4",
            "_dom_classes": [],
            "description": "Extraction completed...: 100%",
            "_model_name": "IntProgressModel",
            "bar_style": "success",
            "max": 1,
            "_view_module": "@jupyter-widgets/controls",
            "_model_module_version": "1.5.0",
            "value": 1,
            "_view_count": null,
            "_view_module_version": "1.5.0",
            "orientation": "horizontal",
            "min": 0,
            "description_tooltip": null,
            "_model_module": "@jupyter-widgets/controls",
            "layout": "IPY_MODEL_ad5dc52753d74101a3353efa2b13cbee"
          }
        },
        "3ba74bef281643fdba53c87b1c70d902": {
          "model_module": "@jupyter-widgets/controls",
          "model_name": "HTMLModel",
          "state": {
            "_view_name": "HTMLView",
            "style": "IPY_MODEL_cec3b186c16e4b15a068c7a8599662a4",
            "_dom_classes": [],
            "description": "",
            "_model_name": "HTMLModel",
            "placeholder": "​",
            "_view_module": "@jupyter-widgets/controls",
            "_model_module_version": "1.5.0",
            "value": " 1/1 [00:01&lt;00:00,  1.99s/ file]",
            "_view_count": null,
            "_view_module_version": "1.5.0",
            "description_tooltip": null,
            "_model_module": "@jupyter-widgets/controls",
            "layout": "IPY_MODEL_caf0cfd12e0e4a3a8d8e91b570fd369f"
          }
        },
        "7ffca6f561e9409ba517e3a4bece17a4": {
          "model_module": "@jupyter-widgets/controls",
          "model_name": "ProgressStyleModel",
          "state": {
            "_view_name": "StyleView",
            "_model_name": "ProgressStyleModel",
            "description_width": "initial",
            "_view_module": "@jupyter-widgets/base",
            "_model_module_version": "1.5.0",
            "_view_count": null,
            "_view_module_version": "1.2.0",
            "bar_color": null,
            "_model_module": "@jupyter-widgets/controls"
          }
        },
        "ad5dc52753d74101a3353efa2b13cbee": {
          "model_module": "@jupyter-widgets/base",
          "model_name": "LayoutModel",
          "state": {
            "_view_name": "LayoutView",
            "grid_template_rows": null,
            "right": null,
            "justify_content": null,
            "_view_module": "@jupyter-widgets/base",
            "overflow": null,
            "_model_module_version": "1.2.0",
            "_view_count": null,
            "flex_flow": null,
            "width": null,
            "min_width": null,
            "border": null,
            "align_items": null,
            "bottom": null,
            "_model_module": "@jupyter-widgets/base",
            "top": null,
            "grid_column": null,
            "overflow_y": null,
            "overflow_x": null,
            "grid_auto_flow": null,
            "grid_area": null,
            "grid_template_columns": null,
            "flex": null,
            "_model_name": "LayoutModel",
            "justify_items": null,
            "grid_row": null,
            "max_height": null,
            "align_content": null,
            "visibility": null,
            "align_self": null,
            "height": null,
            "min_height": null,
            "padding": null,
            "grid_auto_rows": null,
            "grid_gap": null,
            "max_width": null,
            "order": null,
            "_view_module_version": "1.2.0",
            "grid_template_areas": null,
            "object_position": null,
            "object_fit": null,
            "grid_auto_columns": null,
            "margin": null,
            "display": null,
            "left": null
          }
        },
        "cec3b186c16e4b15a068c7a8599662a4": {
          "model_module": "@jupyter-widgets/controls",
          "model_name": "DescriptionStyleModel",
          "state": {
            "_view_name": "StyleView",
            "_model_name": "DescriptionStyleModel",
            "description_width": "",
            "_view_module": "@jupyter-widgets/base",
            "_model_module_version": "1.5.0",
            "_view_count": null,
            "_view_module_version": "1.2.0",
            "_model_module": "@jupyter-widgets/controls"
          }
        },
        "caf0cfd12e0e4a3a8d8e91b570fd369f": {
          "model_module": "@jupyter-widgets/base",
          "model_name": "LayoutModel",
          "state": {
            "_view_name": "LayoutView",
            "grid_template_rows": null,
            "right": null,
            "justify_content": null,
            "_view_module": "@jupyter-widgets/base",
            "overflow": null,
            "_model_module_version": "1.2.0",
            "_view_count": null,
            "flex_flow": null,
            "width": null,
            "min_width": null,
            "border": null,
            "align_items": null,
            "bottom": null,
            "_model_module": "@jupyter-widgets/base",
            "top": null,
            "grid_column": null,
            "overflow_y": null,
            "overflow_x": null,
            "grid_auto_flow": null,
            "grid_area": null,
            "grid_template_columns": null,
            "flex": null,
            "_model_name": "LayoutModel",
            "justify_items": null,
            "grid_row": null,
            "max_height": null,
            "align_content": null,
            "visibility": null,
            "align_self": null,
            "height": null,
            "min_height": null,
            "padding": null,
            "grid_auto_rows": null,
            "grid_gap": null,
            "max_width": null,
            "order": null,
            "_view_module_version": "1.2.0",
            "grid_template_areas": null,
            "object_position": null,
            "object_fit": null,
            "grid_auto_columns": null,
            "margin": null,
            "display": null,
            "left": null
          }
        },
        "45fa9602377f448b846fc51937284795": {
          "model_module": "@jupyter-widgets/controls",
          "model_name": "HBoxModel",
          "state": {
            "_view_name": "HBoxView",
            "_dom_classes": [],
            "_model_name": "HBoxModel",
            "_view_module": "@jupyter-widgets/controls",
            "_model_module_version": "1.5.0",
            "_view_count": null,
            "_view_module_version": "1.5.0",
            "box_style": "",
            "layout": "IPY_MODEL_06dd653ca7c8471ba08efc956da029b7",
            "_model_module": "@jupyter-widgets/controls",
            "children": [
              "IPY_MODEL_eb9eeb8203a8484fa5dda236af92eeda",
              "IPY_MODEL_f1999d2530cb417daacfe8fa1425d19b"
            ]
          }
        },
        "06dd653ca7c8471ba08efc956da029b7": {
          "model_module": "@jupyter-widgets/base",
          "model_name": "LayoutModel",
          "state": {
            "_view_name": "LayoutView",
            "grid_template_rows": null,
            "right": null,
            "justify_content": null,
            "_view_module": "@jupyter-widgets/base",
            "overflow": null,
            "_model_module_version": "1.2.0",
            "_view_count": null,
            "flex_flow": null,
            "width": null,
            "min_width": null,
            "border": null,
            "align_items": null,
            "bottom": null,
            "_model_module": "@jupyter-widgets/base",
            "top": null,
            "grid_column": null,
            "overflow_y": null,
            "overflow_x": null,
            "grid_auto_flow": null,
            "grid_area": null,
            "grid_template_columns": null,
            "flex": null,
            "_model_name": "LayoutModel",
            "justify_items": null,
            "grid_row": null,
            "max_height": null,
            "align_content": null,
            "visibility": null,
            "align_self": null,
            "height": null,
            "min_height": null,
            "padding": null,
            "grid_auto_rows": null,
            "grid_gap": null,
            "max_width": null,
            "order": null,
            "_view_module_version": "1.2.0",
            "grid_template_areas": null,
            "object_position": null,
            "object_fit": null,
            "grid_auto_columns": null,
            "margin": null,
            "display": null,
            "left": null
          }
        },
        "eb9eeb8203a8484fa5dda236af92eeda": {
          "model_module": "@jupyter-widgets/controls",
          "model_name": "IntProgressModel",
          "state": {
            "_view_name": "ProgressView",
            "style": "IPY_MODEL_b5c2238fee1d4c138f3541fab54c39bf",
            "_dom_classes": [],
            "description": "",
            "_model_name": "IntProgressModel",
            "bar_style": "info",
            "max": 1,
            "_view_module": "@jupyter-widgets/controls",
            "_model_module_version": "1.5.0",
            "value": 1,
            "_view_count": null,
            "_view_module_version": "1.5.0",
            "orientation": "horizontal",
            "min": 0,
            "description_tooltip": null,
            "_model_module": "@jupyter-widgets/controls",
            "layout": "IPY_MODEL_efc06d967d5d457ca604f6e8dedd8dd8"
          }
        },
        "f1999d2530cb417daacfe8fa1425d19b": {
          "model_module": "@jupyter-widgets/controls",
          "model_name": "HTMLModel",
          "state": {
            "_view_name": "HTMLView",
            "style": "IPY_MODEL_c90f4af3507f43bf8032c598167645e6",
            "_dom_classes": [],
            "description": "",
            "_model_name": "HTMLModel",
            "placeholder": "​",
            "_view_module": "@jupyter-widgets/controls",
            "_model_module_version": "1.5.0",
            "value": " 104975/0 [01:49&lt;00:00, 975.06 examples/s]",
            "_view_count": null,
            "_view_module_version": "1.5.0",
            "description_tooltip": null,
            "_model_module": "@jupyter-widgets/controls",
            "layout": "IPY_MODEL_4b4aa9ab6b214f799ab9b088986643f5"
          }
        },
        "b5c2238fee1d4c138f3541fab54c39bf": {
          "model_module": "@jupyter-widgets/controls",
          "model_name": "ProgressStyleModel",
          "state": {
            "_view_name": "StyleView",
            "_model_name": "ProgressStyleModel",
            "description_width": "initial",
            "_view_module": "@jupyter-widgets/base",
            "_model_module_version": "1.5.0",
            "_view_count": null,
            "_view_module_version": "1.2.0",
            "bar_color": null,
            "_model_module": "@jupyter-widgets/controls"
          }
        },
        "efc06d967d5d457ca604f6e8dedd8dd8": {
          "model_module": "@jupyter-widgets/base",
          "model_name": "LayoutModel",
          "state": {
            "_view_name": "LayoutView",
            "grid_template_rows": null,
            "right": null,
            "justify_content": null,
            "_view_module": "@jupyter-widgets/base",
            "overflow": null,
            "_model_module_version": "1.2.0",
            "_view_count": null,
            "flex_flow": null,
            "width": null,
            "min_width": null,
            "border": null,
            "align_items": null,
            "bottom": null,
            "_model_module": "@jupyter-widgets/base",
            "top": null,
            "grid_column": null,
            "overflow_y": null,
            "overflow_x": null,
            "grid_auto_flow": null,
            "grid_area": null,
            "grid_template_columns": null,
            "flex": null,
            "_model_name": "LayoutModel",
            "justify_items": null,
            "grid_row": null,
            "max_height": null,
            "align_content": null,
            "visibility": null,
            "align_self": null,
            "height": null,
            "min_height": null,
            "padding": null,
            "grid_auto_rows": null,
            "grid_gap": null,
            "max_width": null,
            "order": null,
            "_view_module_version": "1.2.0",
            "grid_template_areas": null,
            "object_position": null,
            "object_fit": null,
            "grid_auto_columns": null,
            "margin": null,
            "display": null,
            "left": null
          }
        },
        "c90f4af3507f43bf8032c598167645e6": {
          "model_module": "@jupyter-widgets/controls",
          "model_name": "DescriptionStyleModel",
          "state": {
            "_view_name": "StyleView",
            "_model_name": "DescriptionStyleModel",
            "description_width": "",
            "_view_module": "@jupyter-widgets/base",
            "_model_module_version": "1.5.0",
            "_view_count": null,
            "_view_module_version": "1.2.0",
            "_model_module": "@jupyter-widgets/controls"
          }
        },
        "4b4aa9ab6b214f799ab9b088986643f5": {
          "model_module": "@jupyter-widgets/base",
          "model_name": "LayoutModel",
          "state": {
            "_view_name": "LayoutView",
            "grid_template_rows": null,
            "right": null,
            "justify_content": null,
            "_view_module": "@jupyter-widgets/base",
            "overflow": null,
            "_model_module_version": "1.2.0",
            "_view_count": null,
            "flex_flow": null,
            "width": null,
            "min_width": null,
            "border": null,
            "align_items": null,
            "bottom": null,
            "_model_module": "@jupyter-widgets/base",
            "top": null,
            "grid_column": null,
            "overflow_y": null,
            "overflow_x": null,
            "grid_auto_flow": null,
            "grid_area": null,
            "grid_template_columns": null,
            "flex": null,
            "_model_name": "LayoutModel",
            "justify_items": null,
            "grid_row": null,
            "max_height": null,
            "align_content": null,
            "visibility": null,
            "align_self": null,
            "height": null,
            "min_height": null,
            "padding": null,
            "grid_auto_rows": null,
            "grid_gap": null,
            "max_width": null,
            "order": null,
            "_view_module_version": "1.2.0",
            "grid_template_areas": null,
            "object_position": null,
            "object_fit": null,
            "grid_auto_columns": null,
            "margin": null,
            "display": null,
            "left": null
          }
        },
        "a35991c96d63487f9e20f27701b7699c": {
          "model_module": "@jupyter-widgets/controls",
          "model_name": "HBoxModel",
          "state": {
            "_view_name": "HBoxView",
            "_dom_classes": [],
            "_model_name": "HBoxModel",
            "_view_module": "@jupyter-widgets/controls",
            "_model_module_version": "1.5.0",
            "_view_count": null,
            "_view_module_version": "1.5.0",
            "box_style": "",
            "layout": "IPY_MODEL_a176c127790b483090e1f1e978df82e7",
            "_model_module": "@jupyter-widgets/controls",
            "children": [
              "IPY_MODEL_021ea298c88f403f9beccc15f61de0fd",
              "IPY_MODEL_f92e8d9ca76846248ec3ccb7534fb2ff"
            ]
          }
        },
        "a176c127790b483090e1f1e978df82e7": {
          "model_module": "@jupyter-widgets/base",
          "model_name": "LayoutModel",
          "state": {
            "_view_name": "LayoutView",
            "grid_template_rows": null,
            "right": null,
            "justify_content": null,
            "_view_module": "@jupyter-widgets/base",
            "overflow": null,
            "_model_module_version": "1.2.0",
            "_view_count": null,
            "flex_flow": null,
            "width": null,
            "min_width": null,
            "border": null,
            "align_items": null,
            "bottom": null,
            "_model_module": "@jupyter-widgets/base",
            "top": null,
            "grid_column": null,
            "overflow_y": null,
            "overflow_x": null,
            "grid_auto_flow": null,
            "grid_area": null,
            "grid_template_columns": null,
            "flex": null,
            "_model_name": "LayoutModel",
            "justify_items": null,
            "grid_row": null,
            "max_height": null,
            "align_content": null,
            "visibility": null,
            "align_self": null,
            "height": null,
            "min_height": null,
            "padding": null,
            "grid_auto_rows": null,
            "grid_gap": null,
            "max_width": null,
            "order": null,
            "_view_module_version": "1.2.0",
            "grid_template_areas": null,
            "object_position": null,
            "object_fit": null,
            "grid_auto_columns": null,
            "margin": null,
            "display": null,
            "left": null
          }
        },
        "021ea298c88f403f9beccc15f61de0fd": {
          "model_module": "@jupyter-widgets/controls",
          "model_name": "IntProgressModel",
          "state": {
            "_view_name": "ProgressView",
            "style": "IPY_MODEL_d73571c901ff458585b986c58a02b2ae",
            "_dom_classes": [],
            "description": " 97%",
            "_model_name": "IntProgressModel",
            "bar_style": "danger",
            "max": 104975,
            "_view_module": "@jupyter-widgets/controls",
            "_model_module_version": "1.5.0",
            "value": 102078,
            "_view_count": null,
            "_view_module_version": "1.5.0",
            "orientation": "horizontal",
            "min": 0,
            "description_tooltip": null,
            "_model_module": "@jupyter-widgets/controls",
            "layout": "IPY_MODEL_fbbdb329ce3b4f85a4cf9c61540e1ae1"
          }
        },
        "f92e8d9ca76846248ec3ccb7534fb2ff": {
          "model_module": "@jupyter-widgets/controls",
          "model_name": "HTMLModel",
          "state": {
            "_view_name": "HTMLView",
            "style": "IPY_MODEL_f775f9329c6148e4a1dc95810ec382f5",
            "_dom_classes": [],
            "description": "",
            "_model_name": "HTMLModel",
            "placeholder": "​",
            "_view_module": "@jupyter-widgets/controls",
            "_model_module_version": "1.5.0",
            "value": " 102078/104975 [00:07&lt;03:32, 13.62 examples/s]",
            "_view_count": null,
            "_view_module_version": "1.5.0",
            "description_tooltip": null,
            "_model_module": "@jupyter-widgets/controls",
            "layout": "IPY_MODEL_07deafd723404ed19b0b7eeac0c3216f"
          }
        },
        "d73571c901ff458585b986c58a02b2ae": {
          "model_module": "@jupyter-widgets/controls",
          "model_name": "ProgressStyleModel",
          "state": {
            "_view_name": "StyleView",
            "_model_name": "ProgressStyleModel",
            "description_width": "initial",
            "_view_module": "@jupyter-widgets/base",
            "_model_module_version": "1.5.0",
            "_view_count": null,
            "_view_module_version": "1.2.0",
            "bar_color": null,
            "_model_module": "@jupyter-widgets/controls"
          }
        },
        "fbbdb329ce3b4f85a4cf9c61540e1ae1": {
          "model_module": "@jupyter-widgets/base",
          "model_name": "LayoutModel",
          "state": {
            "_view_name": "LayoutView",
            "grid_template_rows": null,
            "right": null,
            "justify_content": null,
            "_view_module": "@jupyter-widgets/base",
            "overflow": null,
            "_model_module_version": "1.2.0",
            "_view_count": null,
            "flex_flow": null,
            "width": null,
            "min_width": null,
            "border": null,
            "align_items": null,
            "bottom": null,
            "_model_module": "@jupyter-widgets/base",
            "top": null,
            "grid_column": null,
            "overflow_y": null,
            "overflow_x": null,
            "grid_auto_flow": null,
            "grid_area": null,
            "grid_template_columns": null,
            "flex": null,
            "_model_name": "LayoutModel",
            "justify_items": null,
            "grid_row": null,
            "max_height": null,
            "align_content": null,
            "visibility": null,
            "align_self": null,
            "height": null,
            "min_height": null,
            "padding": null,
            "grid_auto_rows": null,
            "grid_gap": null,
            "max_width": null,
            "order": null,
            "_view_module_version": "1.2.0",
            "grid_template_areas": null,
            "object_position": null,
            "object_fit": null,
            "grid_auto_columns": null,
            "margin": null,
            "display": null,
            "left": null
          }
        },
        "f775f9329c6148e4a1dc95810ec382f5": {
          "model_module": "@jupyter-widgets/controls",
          "model_name": "DescriptionStyleModel",
          "state": {
            "_view_name": "StyleView",
            "_model_name": "DescriptionStyleModel",
            "description_width": "",
            "_view_module": "@jupyter-widgets/base",
            "_model_module_version": "1.5.0",
            "_view_count": null,
            "_view_module_version": "1.2.0",
            "_model_module": "@jupyter-widgets/controls"
          }
        },
        "07deafd723404ed19b0b7eeac0c3216f": {
          "model_module": "@jupyter-widgets/base",
          "model_name": "LayoutModel",
          "state": {
            "_view_name": "LayoutView",
            "grid_template_rows": null,
            "right": null,
            "justify_content": null,
            "_view_module": "@jupyter-widgets/base",
            "overflow": null,
            "_model_module_version": "1.2.0",
            "_view_count": null,
            "flex_flow": null,
            "width": null,
            "min_width": null,
            "border": null,
            "align_items": null,
            "bottom": null,
            "_model_module": "@jupyter-widgets/base",
            "top": null,
            "grid_column": null,
            "overflow_y": null,
            "overflow_x": null,
            "grid_auto_flow": null,
            "grid_area": null,
            "grid_template_columns": null,
            "flex": null,
            "_model_name": "LayoutModel",
            "justify_items": null,
            "grid_row": null,
            "max_height": null,
            "align_content": null,
            "visibility": null,
            "align_self": null,
            "height": null,
            "min_height": null,
            "padding": null,
            "grid_auto_rows": null,
            "grid_gap": null,
            "max_width": null,
            "order": null,
            "_view_module_version": "1.2.0",
            "grid_template_areas": null,
            "object_position": null,
            "object_fit": null,
            "grid_auto_columns": null,
            "margin": null,
            "display": null,
            "left": null
          }
        },
        "951388e9ffba490f8526474a2869f0b7": {
          "model_module": "@jupyter-widgets/controls",
          "model_name": "HBoxModel",
          "state": {
            "_view_name": "HBoxView",
            "_dom_classes": [],
            "_model_name": "HBoxModel",
            "_view_module": "@jupyter-widgets/controls",
            "_model_module_version": "1.5.0",
            "_view_count": null,
            "_view_module_version": "1.5.0",
            "box_style": "",
            "layout": "IPY_MODEL_14ffc9339f2d46b6a8f2f75fa8b63eff",
            "_model_module": "@jupyter-widgets/controls",
            "children": [
              "IPY_MODEL_a1ba5332696347048ee0b157cad4af7a",
              "IPY_MODEL_c2e8b08c19da4f979ca85efd43ec5ffb"
            ]
          }
        },
        "14ffc9339f2d46b6a8f2f75fa8b63eff": {
          "model_module": "@jupyter-widgets/base",
          "model_name": "LayoutModel",
          "state": {
            "_view_name": "LayoutView",
            "grid_template_rows": null,
            "right": null,
            "justify_content": null,
            "_view_module": "@jupyter-widgets/base",
            "overflow": null,
            "_model_module_version": "1.2.0",
            "_view_count": null,
            "flex_flow": null,
            "width": null,
            "min_width": null,
            "border": null,
            "align_items": null,
            "bottom": null,
            "_model_module": "@jupyter-widgets/base",
            "top": null,
            "grid_column": null,
            "overflow_y": null,
            "overflow_x": null,
            "grid_auto_flow": null,
            "grid_area": null,
            "grid_template_columns": null,
            "flex": null,
            "_model_name": "LayoutModel",
            "justify_items": null,
            "grid_row": null,
            "max_height": null,
            "align_content": null,
            "visibility": null,
            "align_self": null,
            "height": null,
            "min_height": null,
            "padding": null,
            "grid_auto_rows": null,
            "grid_gap": null,
            "max_width": null,
            "order": null,
            "_view_module_version": "1.2.0",
            "grid_template_areas": null,
            "object_position": null,
            "object_fit": null,
            "grid_auto_columns": null,
            "margin": null,
            "display": null,
            "left": null
          }
        },
        "a1ba5332696347048ee0b157cad4af7a": {
          "model_module": "@jupyter-widgets/controls",
          "model_name": "IntProgressModel",
          "state": {
            "_view_name": "ProgressView",
            "style": "IPY_MODEL_9e87a7ce6e4b4f1780c1077bf99f2427",
            "_dom_classes": [],
            "description": "Computing statistics...: 100%",
            "_model_name": "IntProgressModel",
            "bar_style": "success",
            "max": 1,
            "_view_module": "@jupyter-widgets/controls",
            "_model_module_version": "1.5.0",
            "value": 1,
            "_view_count": null,
            "_view_module_version": "1.5.0",
            "orientation": "horizontal",
            "min": 0,
            "description_tooltip": null,
            "_model_module": "@jupyter-widgets/controls",
            "layout": "IPY_MODEL_7626155e9597480fa85624ae66d049d6"
          }
        },
        "c2e8b08c19da4f979ca85efd43ec5ffb": {
          "model_module": "@jupyter-widgets/controls",
          "model_name": "HTMLModel",
          "state": {
            "_view_name": "HTMLView",
            "style": "IPY_MODEL_a61f1923e97b415ebf833f86248ed525",
            "_dom_classes": [],
            "description": "",
            "_model_name": "HTMLModel",
            "placeholder": "​",
            "_view_module": "@jupyter-widgets/controls",
            "_model_module_version": "1.5.0",
            "value": " 1/1 [00:53&lt;00:00, 53.50s/ split]",
            "_view_count": null,
            "_view_module_version": "1.5.0",
            "description_tooltip": null,
            "_model_module": "@jupyter-widgets/controls",
            "layout": "IPY_MODEL_01ce2a66021a4017b2f8f4085b2c6437"
          }
        },
        "9e87a7ce6e4b4f1780c1077bf99f2427": {
          "model_module": "@jupyter-widgets/controls",
          "model_name": "ProgressStyleModel",
          "state": {
            "_view_name": "StyleView",
            "_model_name": "ProgressStyleModel",
            "description_width": "initial",
            "_view_module": "@jupyter-widgets/base",
            "_model_module_version": "1.5.0",
            "_view_count": null,
            "_view_module_version": "1.2.0",
            "bar_color": null,
            "_model_module": "@jupyter-widgets/controls"
          }
        },
        "7626155e9597480fa85624ae66d049d6": {
          "model_module": "@jupyter-widgets/base",
          "model_name": "LayoutModel",
          "state": {
            "_view_name": "LayoutView",
            "grid_template_rows": null,
            "right": null,
            "justify_content": null,
            "_view_module": "@jupyter-widgets/base",
            "overflow": null,
            "_model_module_version": "1.2.0",
            "_view_count": null,
            "flex_flow": null,
            "width": null,
            "min_width": null,
            "border": null,
            "align_items": null,
            "bottom": null,
            "_model_module": "@jupyter-widgets/base",
            "top": null,
            "grid_column": null,
            "overflow_y": null,
            "overflow_x": null,
            "grid_auto_flow": null,
            "grid_area": null,
            "grid_template_columns": null,
            "flex": null,
            "_model_name": "LayoutModel",
            "justify_items": null,
            "grid_row": null,
            "max_height": null,
            "align_content": null,
            "visibility": null,
            "align_self": null,
            "height": null,
            "min_height": null,
            "padding": null,
            "grid_auto_rows": null,
            "grid_gap": null,
            "max_width": null,
            "order": null,
            "_view_module_version": "1.2.0",
            "grid_template_areas": null,
            "object_position": null,
            "object_fit": null,
            "grid_auto_columns": null,
            "margin": null,
            "display": null,
            "left": null
          }
        },
        "a61f1923e97b415ebf833f86248ed525": {
          "model_module": "@jupyter-widgets/controls",
          "model_name": "DescriptionStyleModel",
          "state": {
            "_view_name": "StyleView",
            "_model_name": "DescriptionStyleModel",
            "description_width": "",
            "_view_module": "@jupyter-widgets/base",
            "_model_module_version": "1.5.0",
            "_view_count": null,
            "_view_module_version": "1.2.0",
            "_model_module": "@jupyter-widgets/controls"
          }
        },
        "01ce2a66021a4017b2f8f4085b2c6437": {
          "model_module": "@jupyter-widgets/base",
          "model_name": "LayoutModel",
          "state": {
            "_view_name": "LayoutView",
            "grid_template_rows": null,
            "right": null,
            "justify_content": null,
            "_view_module": "@jupyter-widgets/base",
            "overflow": null,
            "_model_module_version": "1.2.0",
            "_view_count": null,
            "flex_flow": null,
            "width": null,
            "min_width": null,
            "border": null,
            "align_items": null,
            "bottom": null,
            "_model_module": "@jupyter-widgets/base",
            "top": null,
            "grid_column": null,
            "overflow_y": null,
            "overflow_x": null,
            "grid_auto_flow": null,
            "grid_area": null,
            "grid_template_columns": null,
            "flex": null,
            "_model_name": "LayoutModel",
            "justify_items": null,
            "grid_row": null,
            "max_height": null,
            "align_content": null,
            "visibility": null,
            "align_self": null,
            "height": null,
            "min_height": null,
            "padding": null,
            "grid_auto_rows": null,
            "grid_gap": null,
            "max_width": null,
            "order": null,
            "_view_module_version": "1.2.0",
            "grid_template_areas": null,
            "object_position": null,
            "object_fit": null,
            "grid_auto_columns": null,
            "margin": null,
            "display": null,
            "left": null
          }
        },
        "1c1def2ab24f414f9729358da424aa74": {
          "model_module": "@jupyter-widgets/controls",
          "model_name": "HBoxModel",
          "state": {
            "_view_name": "HBoxView",
            "_dom_classes": [],
            "_model_name": "HBoxModel",
            "_view_module": "@jupyter-widgets/controls",
            "_model_module_version": "1.5.0",
            "_view_count": null,
            "_view_module_version": "1.5.0",
            "box_style": "",
            "layout": "IPY_MODEL_1763c845c8aa435280b952e8f9378b2a",
            "_model_module": "@jupyter-widgets/controls",
            "children": [
              "IPY_MODEL_ab26edc31fb94b4eb5fe3973df2f1dc6",
              "IPY_MODEL_e665c932966d4e00bb3b2c3a0653bc34"
            ]
          }
        },
        "1763c845c8aa435280b952e8f9378b2a": {
          "model_module": "@jupyter-widgets/base",
          "model_name": "LayoutModel",
          "state": {
            "_view_name": "LayoutView",
            "grid_template_rows": null,
            "right": null,
            "justify_content": null,
            "_view_module": "@jupyter-widgets/base",
            "overflow": null,
            "_model_module_version": "1.2.0",
            "_view_count": null,
            "flex_flow": null,
            "width": null,
            "min_width": null,
            "border": null,
            "align_items": null,
            "bottom": null,
            "_model_module": "@jupyter-widgets/base",
            "top": null,
            "grid_column": null,
            "overflow_y": null,
            "overflow_x": null,
            "grid_auto_flow": null,
            "grid_area": null,
            "grid_template_columns": null,
            "flex": null,
            "_model_name": "LayoutModel",
            "justify_items": null,
            "grid_row": null,
            "max_height": null,
            "align_content": null,
            "visibility": null,
            "align_self": null,
            "height": null,
            "min_height": null,
            "padding": null,
            "grid_auto_rows": null,
            "grid_gap": null,
            "max_width": null,
            "order": null,
            "_view_module_version": "1.2.0",
            "grid_template_areas": null,
            "object_position": null,
            "object_fit": null,
            "grid_auto_columns": null,
            "margin": null,
            "display": null,
            "left": null
          }
        },
        "ab26edc31fb94b4eb5fe3973df2f1dc6": {
          "model_module": "@jupyter-widgets/controls",
          "model_name": "IntProgressModel",
          "state": {
            "_view_name": "ProgressView",
            "style": "IPY_MODEL_5158bc3e9b434c7cb78c01b908eac55d",
            "_dom_classes": [],
            "description": "",
            "_model_name": "IntProgressModel",
            "bar_style": "info",
            "max": 1,
            "_view_module": "@jupyter-widgets/controls",
            "_model_module_version": "1.5.0",
            "value": 1,
            "_view_count": null,
            "_view_module_version": "1.5.0",
            "orientation": "horizontal",
            "min": 0,
            "description_tooltip": null,
            "_model_module": "@jupyter-widgets/controls",
            "layout": "IPY_MODEL_35ec510db4044074a1efa315d6504ff5"
          }
        },
        "e665c932966d4e00bb3b2c3a0653bc34": {
          "model_module": "@jupyter-widgets/controls",
          "model_name": "HTMLModel",
          "state": {
            "_view_name": "HTMLView",
            "style": "IPY_MODEL_eae74233bb3d4585a2ab8b38c04b016b",
            "_dom_classes": [],
            "description": "",
            "_model_name": "HTMLModel",
            "placeholder": "​",
            "_view_module": "@jupyter-widgets/controls",
            "_model_module_version": "1.5.0",
            "value": " 104975/? [00:46&lt;00:00, 2330.28 examples/s]",
            "_view_count": null,
            "_view_module_version": "1.5.0",
            "description_tooltip": null,
            "_model_module": "@jupyter-widgets/controls",
            "layout": "IPY_MODEL_86c7cd1e17f64efe929fdcb0bfa9fb48"
          }
        },
        "5158bc3e9b434c7cb78c01b908eac55d": {
          "model_module": "@jupyter-widgets/controls",
          "model_name": "ProgressStyleModel",
          "state": {
            "_view_name": "StyleView",
            "_model_name": "ProgressStyleModel",
            "description_width": "initial",
            "_view_module": "@jupyter-widgets/base",
            "_model_module_version": "1.5.0",
            "_view_count": null,
            "_view_module_version": "1.2.0",
            "bar_color": null,
            "_model_module": "@jupyter-widgets/controls"
          }
        },
        "35ec510db4044074a1efa315d6504ff5": {
          "model_module": "@jupyter-widgets/base",
          "model_name": "LayoutModel",
          "state": {
            "_view_name": "LayoutView",
            "grid_template_rows": null,
            "right": null,
            "justify_content": null,
            "_view_module": "@jupyter-widgets/base",
            "overflow": null,
            "_model_module_version": "1.2.0",
            "_view_count": null,
            "flex_flow": null,
            "width": null,
            "min_width": null,
            "border": null,
            "align_items": null,
            "bottom": null,
            "_model_module": "@jupyter-widgets/base",
            "top": null,
            "grid_column": null,
            "overflow_y": null,
            "overflow_x": null,
            "grid_auto_flow": null,
            "grid_area": null,
            "grid_template_columns": null,
            "flex": null,
            "_model_name": "LayoutModel",
            "justify_items": null,
            "grid_row": null,
            "max_height": null,
            "align_content": null,
            "visibility": null,
            "align_self": null,
            "height": null,
            "min_height": null,
            "padding": null,
            "grid_auto_rows": null,
            "grid_gap": null,
            "max_width": null,
            "order": null,
            "_view_module_version": "1.2.0",
            "grid_template_areas": null,
            "object_position": null,
            "object_fit": null,
            "grid_auto_columns": null,
            "margin": null,
            "display": null,
            "left": null
          }
        },
        "eae74233bb3d4585a2ab8b38c04b016b": {
          "model_module": "@jupyter-widgets/controls",
          "model_name": "DescriptionStyleModel",
          "state": {
            "_view_name": "StyleView",
            "_model_name": "DescriptionStyleModel",
            "description_width": "",
            "_view_module": "@jupyter-widgets/base",
            "_model_module_version": "1.5.0",
            "_view_count": null,
            "_view_module_version": "1.2.0",
            "_model_module": "@jupyter-widgets/controls"
          }
        },
        "86c7cd1e17f64efe929fdcb0bfa9fb48": {
          "model_module": "@jupyter-widgets/base",
          "model_name": "LayoutModel",
          "state": {
            "_view_name": "LayoutView",
            "grid_template_rows": null,
            "right": null,
            "justify_content": null,
            "_view_module": "@jupyter-widgets/base",
            "overflow": null,
            "_model_module_version": "1.2.0",
            "_view_count": null,
            "flex_flow": null,
            "width": null,
            "min_width": null,
            "border": null,
            "align_items": null,
            "bottom": null,
            "_model_module": "@jupyter-widgets/base",
            "top": null,
            "grid_column": null,
            "overflow_y": null,
            "overflow_x": null,
            "grid_auto_flow": null,
            "grid_area": null,
            "grid_template_columns": null,
            "flex": null,
            "_model_name": "LayoutModel",
            "justify_items": null,
            "grid_row": null,
            "max_height": null,
            "align_content": null,
            "visibility": null,
            "align_self": null,
            "height": null,
            "min_height": null,
            "padding": null,
            "grid_auto_rows": null,
            "grid_gap": null,
            "max_width": null,
            "order": null,
            "_view_module_version": "1.2.0",
            "grid_template_areas": null,
            "object_position": null,
            "object_fit": null,
            "grid_auto_columns": null,
            "margin": null,
            "display": null,
            "left": null
          }
        }
      }
    }
  },
  "cells": [
    {
      "cell_type": "markdown",
      "metadata": {
        "id": "view-in-github",
        "colab_type": "text"
      },
      "source": [
        "<a href=\"https://colab.research.google.com/github/raamav/Text-Classification/blob/master/AmazonReviews_SentimentAnalysis.ipynb\" target=\"_parent\"><img src=\"https://colab.research.google.com/assets/colab-badge.svg\" alt=\"Open In Colab\"/></a>"
      ]
    },
    {
      "cell_type": "markdown",
      "metadata": {
        "id": "tvGRB5YIknGR",
        "colab_type": "text"
      },
      "source": [
        "# Sentiment Analysis on Amazon Reviews Dataset\n",
        "\n",
        "The data set has more than 100,000 product reviews. The goal of the model is to correctly categorize these reviews by tehri sentiment (whether negative or positive)\n",
        "\n",
        "Using an RNN architecture coomprising Bidirectional RNNs for this classification\n",
        "\n",
        "<BR>\n",
        "\n",
        "### 1. HOUSEKEEPING"
      ]
    },
    {
      "cell_type": "code",
      "metadata": {
        "id": "lFsHNQzVoeIB",
        "colab_type": "code",
        "colab": {
          "base_uri": "https://localhost:8080/",
          "height": 306
        },
        "outputId": "50bccb4e-fb3d-40eb-847e-c88be9610e98"
      },
      "source": [
        "!nvidia-smi"
      ],
      "execution_count": 2,
      "outputs": [
        {
          "output_type": "stream",
          "text": [
            "Wed Apr  8 11:56:35 2020       \n",
            "+-----------------------------------------------------------------------------+\n",
            "| NVIDIA-SMI 440.64.00    Driver Version: 418.67       CUDA Version: 10.1     |\n",
            "|-------------------------------+----------------------+----------------------+\n",
            "| GPU  Name        Persistence-M| Bus-Id        Disp.A | Volatile Uncorr. ECC |\n",
            "| Fan  Temp  Perf  Pwr:Usage/Cap|         Memory-Usage | GPU-Util  Compute M. |\n",
            "|===============================+======================+======================|\n",
            "|   0  Tesla P100-PCIE...  Off  | 00000000:00:04.0 Off |                    0 |\n",
            "| N/A   35C    P0    27W / 250W |      0MiB / 16280MiB |      0%      Default |\n",
            "+-------------------------------+----------------------+----------------------+\n",
            "                                                                               \n",
            "+-----------------------------------------------------------------------------+\n",
            "| Processes:                                                       GPU Memory |\n",
            "|  GPU       PID   Type   Process name                             Usage      |\n",
            "|=============================================================================|\n",
            "|  No running processes found                                                 |\n",
            "+-----------------------------------------------------------------------------+\n"
          ],
          "name": "stdout"
        }
      ]
    },
    {
      "cell_type": "code",
      "metadata": {
        "id": "aMMzQUhDpbC4",
        "colab_type": "code",
        "colab": {}
      },
      "source": [
        "# STANDARD SET OF IMPORTS\n",
        "\n",
        "# Python ≥3.5 is required\n",
        "import sys\n",
        "assert sys.version_info >= (3, 5)\n",
        "\n",
        "# Scikit-Learn ≥0.20 is required\n",
        "import sklearn\n",
        "assert sklearn.__version__ >= \"0.20\"\n",
        "\n",
        "try:\n",
        "    # %tensorflow_version only exists in Colab.\n",
        "    %tensorflow_version 2.x\n",
        "    !pip install -q -U tensorflow-addons\n",
        "    IS_COLAB = True\n",
        "except Exception:\n",
        "    IS_COLAB = False\n",
        "\n",
        "# TensorFlow ≥2.0 is required\n",
        "import tensorflow as tf\n",
        "from tensorflow import keras\n",
        "assert tf.__version__ >= \"2.0\"\n",
        "\n",
        "if not tf.config.list_physical_devices('GPU'):\n",
        "    print(\"No GPU was detected. LSTMs and CNNs can be very slow without a GPU.\")\n",
        "    if IS_COLAB:\n",
        "        print(\"Go to Runtime > Change runtime and select a GPU hardware accelerator.\")\n",
        "\n",
        "# Common imports\n",
        "import numpy as np\n",
        "import os\n",
        "\n",
        "# to make this notebook's output stable across runs\n",
        "np.random.seed(42)\n",
        "tf.random.set_seed(42)\n",
        "\n",
        "# To plot pretty figures\n",
        "%matplotlib inline\n",
        "import matplotlib as mpl\n",
        "import matplotlib.pyplot as plt\n",
        "mpl.rc('axes', labelsize=14)\n",
        "mpl.rc('xtick', labelsize=12)\n",
        "mpl.rc('ytick', labelsize=12)\n",
        "\n",
        "# Where to save the figures\n",
        "PROJECT_ROOT_DIR = \".\"\n",
        "CHAPTER_ID = \"nlp\"\n",
        "IMAGES_PATH = os.path.join(PROJECT_ROOT_DIR, \"images\", CHAPTER_ID)\n",
        "os.makedirs(IMAGES_PATH, exist_ok=True)\n",
        "\n",
        "def save_fig(fig_id, tight_layout=True, fig_extension=\"png\", resolution=300):\n",
        "    path = os.path.join(IMAGES_PATH, fig_id + \".\" + fig_extension)\n",
        "    print(\"Saving figure\", fig_id)\n",
        "    if tight_layout:\n",
        "        plt.tight_layout()\n",
        "    plt.savefig(path, format=fig_extension, dpi=resolution)"
      ],
      "execution_count": 0,
      "outputs": []
    },
    {
      "cell_type": "code",
      "metadata": {
        "id": "UFoLWwIkqMBs",
        "colab_type": "code",
        "colab": {}
      },
      "source": [
        "# A FEW OTHER IMPORTS\n",
        "\n",
        "import os\n",
        "import datetime\n",
        "\n",
        "import tensorflow_datasets as tfds\n",
        "\n",
        "%load_ext tensorboard"
      ],
      "execution_count": 0,
      "outputs": []
    },
    {
      "cell_type": "code",
      "metadata": {
        "id": "adxQR3dMrdtd",
        "colab_type": "code",
        "colab": {
          "base_uri": "https://localhost:8080/",
          "height": 34
        },
        "outputId": "1d21f44f-16e8-49b9-fcc8-2bf9d5194c9c"
      },
      "source": [
        "print(tf.__version__)"
      ],
      "execution_count": 5,
      "outputs": [
        {
          "output_type": "stream",
          "text": [
            "2.2.0-rc2\n"
          ],
          "name": "stdout"
        }
      ]
    },
    {
      "cell_type": "code",
      "metadata": {
        "id": "KnQhE8T1ri-y",
        "colab_type": "code",
        "colab": {
          "base_uri": "https://localhost:8080/",
          "height": 85
        },
        "outputId": "99a4ffea-56c6-4923-db56-9fe1b4c4d486"
      },
      "source": [
        "# A QUICK LOOK AT THE GPU DEVICES\n",
        "\n",
        "tf.config.experimental.list_physical_devices()"
      ],
      "execution_count": 6,
      "outputs": [
        {
          "output_type": "execute_result",
          "data": {
            "text/plain": [
              "[PhysicalDevice(name='/physical_device:CPU:0', device_type='CPU'),\n",
              " PhysicalDevice(name='/physical_device:XLA_CPU:0', device_type='XLA_CPU'),\n",
              " PhysicalDevice(name='/physical_device:XLA_GPU:0', device_type='XLA_GPU'),\n",
              " PhysicalDevice(name='/physical_device:GPU:0', device_type='GPU')]"
            ]
          },
          "metadata": {
            "tags": []
          },
          "execution_count": 6
        }
      ]
    },
    {
      "cell_type": "markdown",
      "metadata": {
        "id": "fsjUO_das3yA",
        "colab_type": "text"
      },
      "source": [
        "### 2. LOADING/EXPLORING DATA"
      ]
    },
    {
      "cell_type": "code",
      "metadata": {
        "id": "GxN__a9dtGsw",
        "colab_type": "code",
        "colab": {
          "base_uri": "https://localhost:8080/",
          "height": 418,
          "referenced_widgets": [
            "7f17520ba59d461eafda7a8d8e6051f2",
            "6909d825d77046a89dc4fc649d564553",
            "10c99e0e20654810ad3390dddea160f6",
            "1022aaad2b8a42c4a590a27dbac84ba8",
            "c1c649bcaf664b21947f49980389847e",
            "3c50dd38d11946d6ba5397f1cd4a32cb",
            "e9db813fba57496ba98511f081cc05f0",
            "e5ba2037fb79401aabdb50414690ebb5",
            "901e140df2ee4223b12552edc4ea9438",
            "7f02010f4a1a41eca0a72155840f8108",
            "b6c19f658b9f434e874eba4d25db383f",
            "c338f3f07dd744d2bf65ef9c7249df43",
            "cf697288ebbf47e5b34ffbceebe0b566",
            "847dd841bf914f26a3877ed1be8eecf4",
            "22cb0026b4be4d92b44eb0965690c725",
            "2c13664acbd54fc4ba1e11a8fef314b5",
            "953e24e475af493c84833e34ad6db54f",
            "161d81a6214c453fb4b17904a985441d",
            "427433f1914e44608febc1e23ef5265d",
            "3ba74bef281643fdba53c87b1c70d902",
            "7ffca6f561e9409ba517e3a4bece17a4",
            "ad5dc52753d74101a3353efa2b13cbee",
            "cec3b186c16e4b15a068c7a8599662a4",
            "caf0cfd12e0e4a3a8d8e91b570fd369f",
            "45fa9602377f448b846fc51937284795",
            "06dd653ca7c8471ba08efc956da029b7",
            "eb9eeb8203a8484fa5dda236af92eeda",
            "f1999d2530cb417daacfe8fa1425d19b",
            "b5c2238fee1d4c138f3541fab54c39bf",
            "efc06d967d5d457ca604f6e8dedd8dd8",
            "c90f4af3507f43bf8032c598167645e6",
            "4b4aa9ab6b214f799ab9b088986643f5",
            "a35991c96d63487f9e20f27701b7699c",
            "a176c127790b483090e1f1e978df82e7",
            "021ea298c88f403f9beccc15f61de0fd",
            "f92e8d9ca76846248ec3ccb7534fb2ff",
            "d73571c901ff458585b986c58a02b2ae",
            "fbbdb329ce3b4f85a4cf9c61540e1ae1",
            "f775f9329c6148e4a1dc95810ec382f5",
            "07deafd723404ed19b0b7eeac0c3216f",
            "951388e9ffba490f8526474a2869f0b7",
            "14ffc9339f2d46b6a8f2f75fa8b63eff",
            "a1ba5332696347048ee0b157cad4af7a",
            "c2e8b08c19da4f979ca85efd43ec5ffb",
            "9e87a7ce6e4b4f1780c1077bf99f2427",
            "7626155e9597480fa85624ae66d049d6",
            "a61f1923e97b415ebf833f86248ed525",
            "01ce2a66021a4017b2f8f4085b2c6437",
            "1c1def2ab24f414f9729358da424aa74",
            "1763c845c8aa435280b952e8f9378b2a",
            "ab26edc31fb94b4eb5fe3973df2f1dc6",
            "e665c932966d4e00bb3b2c3a0653bc34",
            "5158bc3e9b434c7cb78c01b908eac55d",
            "35ec510db4044074a1efa315d6504ff5",
            "eae74233bb3d4585a2ab8b38c04b016b",
            "86c7cd1e17f64efe929fdcb0bfa9fb48"
          ]
        },
        "outputId": "d4c6478d-17fb-4ee1-e17b-5835c6a6a1cc"
      },
      "source": [
        "datasets, info = tfds.load('amazon_us_reviews/Mobile_Electronics_v1_00', with_info = True)\n",
        "\n",
        "train_dataset = datasets['train']"
      ],
      "execution_count": 7,
      "outputs": [
        {
          "output_type": "stream",
          "text": [
            "\u001b[1mDownloading and preparing dataset amazon_us_reviews/Mobile_Electronics_v1_00/0.1.0 (download: 21.81 MiB, generated: Unknown size, total: 21.81 MiB) to /root/tensorflow_datasets/amazon_us_reviews/Mobile_Electronics_v1_00/0.1.0...\u001b[0m\n"
          ],
          "name": "stdout"
        },
        {
          "output_type": "display_data",
          "data": {
            "application/vnd.jupyter.widget-view+json": {
              "model_id": "7f17520ba59d461eafda7a8d8e6051f2",
              "version_minor": 0,
              "version_major": 2
            },
            "text/plain": [
              "HBox(children=(IntProgress(value=1, bar_style='info', description='Dl Completed...', max=1, style=ProgressStyl…"
            ]
          },
          "metadata": {
            "tags": []
          }
        },
        {
          "output_type": "display_data",
          "data": {
            "application/vnd.jupyter.widget-view+json": {
              "model_id": "901e140df2ee4223b12552edc4ea9438",
              "version_minor": 0,
              "version_major": 2
            },
            "text/plain": [
              "HBox(children=(IntProgress(value=1, bar_style='info', description='Dl Size...', max=1, style=ProgressStyle(des…"
            ]
          },
          "metadata": {
            "tags": []
          }
        },
        {
          "output_type": "display_data",
          "data": {
            "application/vnd.jupyter.widget-view+json": {
              "model_id": "953e24e475af493c84833e34ad6db54f",
              "version_minor": 0,
              "version_major": 2
            },
            "text/plain": [
              "HBox(children=(IntProgress(value=1, bar_style='info', description='Extraction completed...', max=1, style=Prog…"
            ]
          },
          "metadata": {
            "tags": []
          }
        },
        {
          "output_type": "stream",
          "text": [
            "/usr/local/lib/python3.6/dist-packages/urllib3/connectionpool.py:847: InsecureRequestWarning: Unverified HTTPS request is being made. Adding certificate verification is strongly advised. See: https://urllib3.readthedocs.io/en/latest/advanced-usage.html#ssl-warnings\n",
            "  InsecureRequestWarning)\n"
          ],
          "name": "stderr"
        },
        {
          "output_type": "stream",
          "text": [
            "\n",
            "\n",
            "\n",
            "\n",
            "\n",
            "\n"
          ],
          "name": "stdout"
        },
        {
          "output_type": "display_data",
          "data": {
            "application/vnd.jupyter.widget-view+json": {
              "model_id": "45fa9602377f448b846fc51937284795",
              "version_minor": 0,
              "version_major": 2
            },
            "text/plain": [
              "HBox(children=(IntProgress(value=1, bar_style='info', max=1), HTML(value='')))"
            ]
          },
          "metadata": {
            "tags": []
          }
        },
        {
          "output_type": "stream",
          "text": [
            "\rShuffling and writing examples to /root/tensorflow_datasets/amazon_us_reviews/Mobile_Electronics_v1_00/0.1.0.incompleteR6V6CJ/amazon_us_reviews-train.tfrecord\n"
          ],
          "name": "stdout"
        },
        {
          "output_type": "display_data",
          "data": {
            "application/vnd.jupyter.widget-view+json": {
              "model_id": "a35991c96d63487f9e20f27701b7699c",
              "version_minor": 0,
              "version_major": 2
            },
            "text/plain": [
              "HBox(children=(IntProgress(value=0, max=104975), HTML(value='')))"
            ]
          },
          "metadata": {
            "tags": []
          }
        },
        {
          "output_type": "display_data",
          "data": {
            "application/vnd.jupyter.widget-view+json": {
              "model_id": "951388e9ffba490f8526474a2869f0b7",
              "version_minor": 0,
              "version_major": 2
            },
            "text/plain": [
              "HBox(children=(IntProgress(value=0, description='Computing statistics...', max=1, style=ProgressStyle(descript…"
            ]
          },
          "metadata": {
            "tags": []
          }
        },
        {
          "output_type": "stream",
          "text": [
            "\r"
          ],
          "name": "stdout"
        },
        {
          "output_type": "display_data",
          "data": {
            "application/vnd.jupyter.widget-view+json": {
              "model_id": "1c1def2ab24f414f9729358da424aa74",
              "version_minor": 0,
              "version_major": 2
            },
            "text/plain": [
              "HBox(children=(IntProgress(value=1, bar_style='info', max=1), HTML(value='')))"
            ]
          },
          "metadata": {
            "tags": []
          }
        },
        {
          "output_type": "stream",
          "text": [
            "ERROR:absl:Statistics generation doesn't work for nested structures yet\n"
          ],
          "name": "stderr"
        },
        {
          "output_type": "stream",
          "text": [
            "\r\n",
            "\u001b[1mDataset amazon_us_reviews downloaded and prepared to /root/tensorflow_datasets/amazon_us_reviews/Mobile_Electronics_v1_00/0.1.0. Subsequent calls will reuse this data.\u001b[0m\n"
          ],
          "name": "stdout"
        }
      ]
    },
    {
      "cell_type": "code",
      "metadata": {
        "id": "4E_LFo4auwGG",
        "colab_type": "code",
        "colab": {
          "base_uri": "https://localhost:8080/",
          "height": 955
        },
        "outputId": "243c18af-76d1-4644-a628-9ad8b678f10d"
      },
      "source": [
        "info"
      ],
      "execution_count": 8,
      "outputs": [
        {
          "output_type": "execute_result",
          "data": {
            "text/plain": [
              "tfds.core.DatasetInfo(\n",
              "    name='amazon_us_reviews',\n",
              "    version=0.1.0,\n",
              "    description='Amazon Customer Reviews (a.k.a. Product Reviews) is one of Amazons iconic products. In a period of over two decades since the first review in 1995, millions of Amazon customers have contributed over a hundred million reviews to express opinions and describe their experiences regarding products on the Amazon.com website. This makes Amazon Customer Reviews a rich source of information for academic researchers in the fields of Natural Language Processing (NLP), Information Retrieval (IR), and Machine Learning (ML), amongst others. Accordingly, we are releasing this data to further research in multiple disciplines related to understanding customer product experiences. Specifically, this dataset was constructed to represent a sample of customer evaluations and opinions, variation in the perception of a product across geographical regions, and promotional intent or bias in reviews.\n",
              "\n",
              "Over 130+ million customer reviews are available to researchers as part of this release. The data is available in TSV files in the amazon-reviews-pds S3 bucket in AWS US East Region. Each line in the data files corresponds to an individual review (tab delimited, with no quote and escape characters).\n",
              "\n",
              "Each Dataset contains the following columns : \n",
              "  marketplace       - 2 letter country code of the marketplace where the review was written.\n",
              "  customer_id       - Random identifier that can be used to aggregate reviews written by a single author.\n",
              "  review_id         - The unique ID of the review.\n",
              "  product_id        - The unique Product ID the review pertains to. In the multilingual dataset the reviews\n",
              "                      for the same product in different countries can be grouped by the same product_id.\n",
              "  product_parent    - Random identifier that can be used to aggregate reviews for the same product.\n",
              "  product_title     - Title of the product.\n",
              "  product_category  - Broad product category that can be used to group reviews \n",
              "                      (also used to group the dataset into coherent parts).\n",
              "  star_rating       - The 1-5 star rating of the review.\n",
              "  helpful_votes     - Number of helpful votes.\n",
              "  total_votes       - Number of total votes the review received.\n",
              "  vine              - Review was written as part of the Vine program.\n",
              "  verified_purchase - The review is on a verified purchase.\n",
              "  review_headline   - The title of the review.\n",
              "  review_body       - The review text.\n",
              "  review_date       - The date the review was written.\n",
              "',\n",
              "    homepage='https://s3.amazonaws.com/amazon-reviews-pds/readme.html',\n",
              "    features=FeaturesDict({\n",
              "        'data': FeaturesDict({\n",
              "            'customer_id': tf.string,\n",
              "            'helpful_votes': tf.int32,\n",
              "            'marketplace': tf.string,\n",
              "            'product_category': tf.string,\n",
              "            'product_id': tf.string,\n",
              "            'product_parent': tf.string,\n",
              "            'product_title': tf.string,\n",
              "            'review_body': tf.string,\n",
              "            'review_date': tf.string,\n",
              "            'review_headline': tf.string,\n",
              "            'review_id': tf.string,\n",
              "            'star_rating': tf.int32,\n",
              "            'total_votes': tf.int32,\n",
              "            'verified_purchase': ClassLabel(shape=(), dtype=tf.int64, num_classes=2),\n",
              "            'vine': ClassLabel(shape=(), dtype=tf.int64, num_classes=2),\n",
              "        }),\n",
              "    }),\n",
              "    total_num_examples=104975,\n",
              "    splits={\n",
              "        'train': 104975,\n",
              "    },\n",
              "    supervised_keys=None,\n",
              "    citation=\"\"\"\"\"\",\n",
              "    redistribution_info=,\n",
              ")"
            ]
          },
          "metadata": {
            "tags": []
          },
          "execution_count": 8
        }
      ]
    },
    {
      "cell_type": "markdown",
      "metadata": {
        "id": "HruRhXH2vAm2",
        "colab_type": "text"
      },
      "source": [
        "The dataset has a **large** number of variables. We are interested in the `review_body` and the `star_rating` variables. The `star_rating` variable will be converted to the binary label."
      ]
    },
    {
      "cell_type": "code",
      "metadata": {
        "id": "6avsmbaovZ3x",
        "colab_type": "code",
        "colab": {
          "base_uri": "https://localhost:8080/",
          "height": 54
        },
        "outputId": "8470764f-7776-431f-95e5-1da1500dfa83"
      },
      "source": [
        "print(train_dataset)"
      ],
      "execution_count": 9,
      "outputs": [
        {
          "output_type": "stream",
          "text": [
            "<DatasetV1Adapter shapes: {data: {customer_id: (), helpful_votes: (), marketplace: (), product_category: (), product_id: (), product_parent: (), product_title: (), review_body: (), review_date: (), review_headline: (), review_id: (), star_rating: (), total_votes: (), verified_purchase: (), vine: ()}}, types: {data: {customer_id: tf.string, helpful_votes: tf.int32, marketplace: tf.string, product_category: tf.string, product_id: tf.string, product_parent: tf.string, product_title: tf.string, review_body: tf.string, review_date: tf.string, review_headline: tf.string, review_id: tf.string, star_rating: tf.int32, total_votes: tf.int32, verified_purchase: tf.int64, vine: tf.int64}}>\n"
          ],
          "name": "stdout"
        }
      ]
    },
    {
      "cell_type": "markdown",
      "metadata": {
        "id": "Ezc26pTcvaPC",
        "colab_type": "text"
      },
      "source": [
        "A different sort of a format with a large number of variables"
      ]
    },
    {
      "cell_type": "code",
      "metadata": {
        "id": "zy_Wcz1SwdQH",
        "colab_type": "code",
        "colab": {
          "base_uri": "https://localhost:8080/",
          "height": 34
        },
        "outputId": "1efbcf76-1b62-4ceb-91e3-f708812689c3"
      },
      "source": [
        "# GETTING THE SIZE OF THIS DATASET\n",
        "# a bit of an unconventional format\n",
        "\n",
        "len(list(train_dataset))"
      ],
      "execution_count": 10,
      "outputs": [
        {
          "output_type": "execute_result",
          "data": {
            "text/plain": [
              "104975"
            ]
          },
          "metadata": {
            "tags": []
          },
          "execution_count": 10
        }
      ]
    },
    {
      "cell_type": "code",
      "metadata": {
        "id": "C_DTPtRzwdUQ",
        "colab_type": "code",
        "colab": {}
      },
      "source": [
        "# HOW MUCH DATA TO PREFETCH? \n",
        "# SPEEDS UP TRAINING. DON'T SET THIS TOO LOW ELSE ALL THE CLASSES WON'T GET GOOD REPRESENTATION\n",
        "BUFFER_SIZE = 30000\n",
        "\n",
        "# THE PARAM FOR MINI-BATCH GRADIENT DESCENT (ALSO RELATED TO THE # SAMPLES THAT CAN BE LOADED TO THE MEMORY AT A TIME)\n",
        "BATCH_SIZE = 128"
      ],
      "execution_count": 0,
      "outputs": []
    },
    {
      "cell_type": "code",
      "metadata": {
        "id": "37FT9HTxwdZc",
        "colab_type": "code",
        "colab": {}
      },
      "source": [
        "# SHUFFLING THE TRAINING DATA\n",
        "train_dataset = train_dataset.shuffle(BUFFER_SIZE, reshuffle_each_iteration = False)"
      ],
      "execution_count": 0,
      "outputs": []
    },
    {
      "cell_type": "code",
      "metadata": {
        "id": "6lh7vR2RwdeB",
        "colab_type": "code",
        "colab": {
          "base_uri": "https://localhost:8080/",
          "height": 71
        },
        "outputId": "07d791e7-e81f-45e0-c9a0-b2205ab733c1"
      },
      "source": [
        "# EXPLORING A FEW DATA SAMPLES\n",
        "\n",
        "for reviews in train_dataset.take(2):\n",
        "  print(reviews)"
      ],
      "execution_count": 13,
      "outputs": [
        {
          "output_type": "stream",
          "text": [
            "{'data': {'customer_id': <tf.Tensor: shape=(), dtype=string, numpy=b'45082952'>, 'helpful_votes': <tf.Tensor: shape=(), dtype=int32, numpy=0>, 'marketplace': <tf.Tensor: shape=(), dtype=string, numpy=b'US'>, 'product_category': <tf.Tensor: shape=(), dtype=string, numpy=b'Mobile_Electronics'>, 'product_id': <tf.Tensor: shape=(), dtype=string, numpy=b'B00GMIKWMU'>, 'product_parent': <tf.Tensor: shape=(), dtype=string, numpy=b'111808354'>, 'product_title': <tf.Tensor: shape=(), dtype=string, numpy=b'Mulbess - Case Cover - Case Cover - Flip Stand Leather Cover with Elastic Hand Strap and Pen'>, 'review_body': <tf.Tensor: shape=(), dtype=string, numpy=b\"Performs well.  Was a little weary about getting it since reviews weren't great, but my heart was set on an orange cover for my tablet...  It isn't the most sturdy cover, but it does a great job of protecting the tablet and doesn't cover any buttons or speakers.  I don't use the stand-up option regularly, but have tried it and it worked fine.  I was just careful to make sure I had the tablet in a place on the table where, if it fell, it would land on the table and not the floor.  I am happy with my purchase.  Love my color choice.  Does what I need it to do.\">, 'review_date': <tf.Tensor: shape=(), dtype=string, numpy=b'2014-10-07'>, 'review_headline': <tf.Tensor: shape=(), dtype=string, numpy=b'Performs Well Enough For Me'>, 'review_id': <tf.Tensor: shape=(), dtype=string, numpy=b'R3NXJOBFS35A13'>, 'star_rating': <tf.Tensor: shape=(), dtype=int32, numpy=4>, 'total_votes': <tf.Tensor: shape=(), dtype=int32, numpy=0>, 'verified_purchase': <tf.Tensor: shape=(), dtype=int64, numpy=0>, 'vine': <tf.Tensor: shape=(), dtype=int64, numpy=1>}}\n",
            "{'data': {'customer_id': <tf.Tensor: shape=(), dtype=string, numpy=b'32973278'>, 'helpful_votes': <tf.Tensor: shape=(), dtype=int32, numpy=1>, 'marketplace': <tf.Tensor: shape=(), dtype=string, numpy=b'US'>, 'product_category': <tf.Tensor: shape=(), dtype=string, numpy=b'Mobile_Electronics'>, 'product_id': <tf.Tensor: shape=(), dtype=string, numpy=b'B00M49C6MK'>, 'product_parent': <tf.Tensor: shape=(), dtype=string, numpy=b'91176851'>, 'product_title': <tf.Tensor: shape=(), dtype=string, numpy=b'Sentey Ls 4162'>, 'review_body': <tf.Tensor: shape=(), dtype=string, numpy=b'First of all, this is a great little speaker, but if you are looking for really, and I mean, really low lows in your bass, this is not the one. The speaker sounds great and is clear, but there are limitations to size and power.<br />The only gripe I have is the color. The blue you see on your screen has been enhanced. The color blue I received is more of a baby blue, not to far off on the case but definitely on the metal finish screen. I had ordered two, and one came opened and the little bag that it is suppose to come with it was missing.<br />So, I only gave it 4 stars. I like the bluetooth operation, and like I said before, sounds great, and does fill up a room with rich music. The Bluetooth was very easy to pair up to my Android phone.<br />Get the color you like, but the screen will have more of a powdery coat to it, than the Anodized sheen they are portraying on the picture.'>, 'review_date': <tf.Tensor: shape=(), dtype=string, numpy=b'2014-12-06'>, 'review_headline': <tf.Tensor: shape=(), dtype=string, numpy=b'Great Speaker, but muted color.'>, 'review_id': <tf.Tensor: shape=(), dtype=string, numpy=b'R282P2CL3N5W2J'>, 'star_rating': <tf.Tensor: shape=(), dtype=int32, numpy=4>, 'total_votes': <tf.Tensor: shape=(), dtype=int32, numpy=3>, 'verified_purchase': <tf.Tensor: shape=(), dtype=int64, numpy=0>, 'vine': <tf.Tensor: shape=(), dtype=int64, numpy=1>}}\n"
          ],
          "name": "stdout"
        }
      ]
    },
    {
      "cell_type": "code",
      "metadata": {
        "id": "-FvGSxhZwdhl",
        "colab_type": "code",
        "colab": {
          "base_uri": "https://localhost:8080/",
          "height": 887
        },
        "outputId": "32b2b1a7-bfb7-49a7-f26c-c61fa608a50b"
      },
      "source": [
        "# EXPLORING A FEW MORE DATA SAMPLES\n",
        "\n",
        "for reviews in train_dataset.take(10):\n",
        "  reviews_text = reviews['data']\n",
        "  print(reviews_text.get('review_body').numpy())\n",
        "  print(reviews_text.get('star_rating'))\n",
        "  print(tf.where(reviews_text.get('star_rating')>3,1,0).numpy())\n",
        "  print(\"\\n\")"
      ],
      "execution_count": 14,
      "outputs": [
        {
          "output_type": "stream",
          "text": [
            "b\"Performs well.  Was a little weary about getting it since reviews weren't great, but my heart was set on an orange cover for my tablet...  It isn't the most sturdy cover, but it does a great job of protecting the tablet and doesn't cover any buttons or speakers.  I don't use the stand-up option regularly, but have tried it and it worked fine.  I was just careful to make sure I had the tablet in a place on the table where, if it fell, it would land on the table and not the floor.  I am happy with my purchase.  Love my color choice.  Does what I need it to do.\"\n",
            "tf.Tensor(4, shape=(), dtype=int32)\n",
            "1\n",
            "\n",
            "\n",
            "b'First of all, this is a great little speaker, but if you are looking for really, and I mean, really low lows in your bass, this is not the one. The speaker sounds great and is clear, but there are limitations to size and power.<br />The only gripe I have is the color. The blue you see on your screen has been enhanced. The color blue I received is more of a baby blue, not to far off on the case but definitely on the metal finish screen. I had ordered two, and one came opened and the little bag that it is suppose to come with it was missing.<br />So, I only gave it 4 stars. I like the bluetooth operation, and like I said before, sounds great, and does fill up a room with rich music. The Bluetooth was very easy to pair up to my Android phone.<br />Get the color you like, but the screen will have more of a powdery coat to it, than the Anodized sheen they are portraying on the picture.'\n",
            "tf.Tensor(4, shape=(), dtype=int32)\n",
            "1\n",
            "\n",
            "\n",
            "b'The case functions as advertised. It fits the Nook HD+ well and has access points for all of the on board ports. It provides ample protection with normal use. I would like the hinge portion to be a little stronger but it does the job. The Bluetooth keyboard paired with the Nook on the first try and makes things like email much easier. The kick stand functions well.'\n",
            "tf.Tensor(4, shape=(), dtype=int32)\n",
            "1\n",
            "\n",
            "\n",
            "b\"The product was working fine for the first two weeks until the whole casing for the part you plug into the phone broke off leaving the plug it-self inside my phone. Fortunately it came out easily without damaging my phone. I don't recommend this product to anyone. very poorly made\"\n",
            "tf.Tensor(1, shape=(), dtype=int32)\n",
            "0\n",
            "\n",
            "\n",
            "b'They r junk'\n",
            "tf.Tensor(1, shape=(), dtype=int32)\n",
            "0\n",
            "\n",
            "\n",
            "b'Great combo deal love the sound of them have recently sold them to my brother since they were to big for my car and have gone with 3 audiobahn tens instead'\n",
            "tf.Tensor(5, shape=(), dtype=int32)\n",
            "1\n",
            "\n",
            "\n",
            "b\"This item is a dud. Worked for 4 c.d.'s ,then nothing at all. I'm returning it. Don't buy it.\"\n",
            "tf.Tensor(1, shape=(), dtype=int32)\n",
            "0\n",
            "\n",
            "\n",
            "b'Very good quality product. Still working as well and has held up very long. Loving it in addition to the great price.'\n",
            "tf.Tensor(5, shape=(), dtype=int32)\n",
            "1\n",
            "\n",
            "\n",
            "b'This thing is great, charges MP3 player from cigarette lighter while providing power to also play MP3 over your car radio and it also holds it tight and upright so you can operate the MP3.  Neat.  Just make sure when buying you get a multi-use MP3 version or specific for your brand.  Some word on all models others are their brand only...Do the Research and really enjoy your MP3 more!!'\n",
            "tf.Tensor(5, shape=(), dtype=int32)\n",
            "1\n",
            "\n",
            "\n",
            "b\"You simply cannot beat CBC's product for the money. Completed the build on a DPMs lower with a Timney trigger. Added a bipod and Nikon ProStaff BDC scope. Took it to the range and ran some break in rounds through it (approx: 90), then zeeroed the scope at 100yds and got 2&#34; groups with cheap break in ammo. Expect accuracy to increase as the barrel gets broken in (yeah, I believe a barrel gets more accurate after about 4 or 5 hundred rounds). Extremely pleased with purchase and would recommend any of CBC's products to anyone.\"\n",
            "tf.Tensor(5, shape=(), dtype=int32)\n",
            "1\n",
            "\n",
            "\n"
          ],
          "name": "stdout"
        }
      ]
    },
    {
      "cell_type": "markdown",
      "metadata": {
        "id": "VIgCk4ATwdlm",
        "colab_type": "text"
      },
      "source": [
        "### 3. Data Pre-Processing"
      ]
    },
    {
      "cell_type": "code",
      "metadata": {
        "id": "81505lM7wdsf",
        "colab_type": "code",
        "colab": {
          "base_uri": "https://localhost:8080/",
          "height": 34
        },
        "outputId": "bfed732b-2dce-4c6c-ff51-6e14b80208ae"
      },
      "source": [
        "# BUILD VOCABULARY\n",
        "# CONTAINS DIFFERENT COMBINATION OF WORDS THATS THERE IN THE DATA\n",
        "\n",
        "tokenizer = tfds.features.text.Tokenizer()\n",
        "\n",
        "# USING SET TO GET UNIQUE WORDS\n",
        "vocabulary_set = set()\n",
        "\n",
        "for _, reviews in train_dataset.enumerate():\n",
        "  review_text = reviews['data']\n",
        "  reviews_tokens = tokenizer.tokenize(review_text.get('review_body').numpy())\n",
        "  vocabulary_set.update(reviews_tokens)\n",
        "\n",
        "\n",
        "vocab_size = len(vocabulary_set)\n",
        "\n",
        "print(\"Vocab Size is :\", vocab_size)\n",
        "\n",
        "\n"
      ],
      "execution_count": 15,
      "outputs": [
        {
          "output_type": "stream",
          "text": [
            "Vocab Size is : 73738\n"
          ],
          "name": "stdout"
        }
      ]
    },
    {
      "cell_type": "markdown",
      "metadata": {
        "id": "nXz1kbRPwdws",
        "colab_type": "text"
      },
      "source": [
        "Notes:\n",
        "1. Interesting to note that the total vocabulary is 73,738\n",
        "2. `vocab_size` will be used in the embedding layer of the model to specfy the size of the vocabulary\n"
      ]
    },
    {
      "cell_type": "code",
      "metadata": {
        "id": "TKh6rWyZC4BS",
        "colab_type": "code",
        "colab": {}
      },
      "source": [
        "# CONVERT THE TEXT INTO NUMERIC (INTEGER) VALUE\n",
        "\n",
        "encoder = tfds.features.text.TokenTextEncoder(vocabulary_set)"
      ],
      "execution_count": 0,
      "outputs": []
    },
    {
      "cell_type": "code",
      "metadata": {
        "id": "UhRIMKJmC4Ie",
        "colab_type": "code",
        "colab": {
          "base_uri": "https://localhost:8080/",
          "height": 34
        },
        "outputId": "1e74add4-8559-456c-e452-1d9f564c813e"
      },
      "source": [
        "# PRINTING OUT THE SET\n",
        "\n",
        "#print(vocabulary_set)\n",
        "\n",
        "print(\"Not printing the entire set\")"
      ],
      "execution_count": 95,
      "outputs": [
        {
          "output_type": "stream",
          "text": [
            "Not printing the entire set\n"
          ],
          "name": "stdout"
        }
      ]
    },
    {
      "cell_type": "code",
      "metadata": {
        "id": "JYfyYP1GC4P3",
        "colab_type": "code",
        "colab": {
          "base_uri": "https://localhost:8080/",
          "height": 51
        },
        "outputId": "8c80c691-c893-471d-f1d2-fac3afdd39ad"
      },
      "source": [
        "# ACCESSING FIRST 10 WORDS IN THE SET\n",
        "# in general sets do not suport indexing or slicing\n",
        "\n",
        "print(next(iter(vocabulary_set)))\n",
        "print(next(iter(vocabulary_set)))"
      ],
      "execution_count": 18,
      "outputs": [
        {
          "output_type": "stream",
          "text": [
            "distinction\n",
            "distinction\n"
          ],
          "name": "stdout"
        }
      ]
    },
    {
      "cell_type": "code",
      "metadata": {
        "id": "oC1-FORPC4bp",
        "colab_type": "code",
        "colab": {
          "base_uri": "https://localhost:8080/",
          "height": 207
        },
        "outputId": "ee297a21-cbfd-4046-d85f-68dfd78e005f"
      },
      "source": [
        "# PRINTING OUT THE REVIEW AND THE CORRESPONDING ENCODED TEXT\n",
        "\n",
        "for reviews in train_dataset.take(5):\n",
        "  review_text = reviews['data']\n",
        "  print(review_text.get('review_body').numpy())\n",
        "  encoded_example = encoder.encode(review_text.get('review_body').numpy())\n",
        "  print(encoded_example)"
      ],
      "execution_count": 19,
      "outputs": [
        {
          "output_type": "stream",
          "text": [
            "b\"Performs well.  Was a little weary about getting it since reviews weren't great, but my heart was set on an orange cover for my tablet...  It isn't the most sturdy cover, but it does a great job of protecting the tablet and doesn't cover any buttons or speakers.  I don't use the stand-up option regularly, but have tried it and it worked fine.  I was just careful to make sure I had the tablet in a place on the table where, if it fell, it would land on the table and not the floor.  I am happy with my purchase.  Love my color choice.  Does what I need it to do.\"\n",
            "[2002, 12727, 7140, 5692, 20080, 67342, 71068, 43072, 70095, 31459, 44998, 33040, 33630, 52528, 31383, 70890, 33200, 42831, 19068, 33300, 67409, 64665, 34245, 52506, 70890, 52248, 29722, 69966, 33630, 12582, 4491, 43950, 34245, 31383, 70095, 48294, 5692, 52528, 44298, 8310, 23789, 12582, 52248, 68928, 57741, 33630, 34245, 15649, 11759, 44955, 12498, 35518, 57463, 33630, 45209, 12582, 24031, 72244, 64388, 5745, 31383, 54492, 35793, 70095, 68928, 70095, 49103, 54108, 35518, 42831, 73094, 32872, 64903, 58449, 51727, 35518, 24016, 12582, 52248, 3481, 5692, 24870, 33300, 12582, 43458, 37945, 49644, 70095, 30173, 70095, 60212, 57108, 33300, 12582, 43458, 68928, 27425, 12582, 45787, 35518, 23429, 10520, 8604, 70890, 70897, 68974, 70890, 20617, 49941, 49017, 39397, 35518, 26933, 70095, 64903, 21836]\n",
            "b'First of all, this is a great little speaker, but if you are looking for really, and I mean, really low lows in your bass, this is not the one. The speaker sounds great and is clear, but there are limitations to size and power.<br />The only gripe I have is the color. The blue you see on your screen has been enhanced. The color blue I received is more of a baby blue, not to far off on the case but definitely on the metal finish screen. I had ordered two, and one came opened and the little bag that it is suppose to come with it was missing.<br />So, I only gave it 4 stars. I like the bluetooth operation, and like I said before, sounds great, and does fill up a room with rich music. The Bluetooth was very easy to pair up to my Android phone.<br />Get the color you like, but the screen will have more of a powdery coat to it, than the Anodized sheen they are portraying on the picture.'\n",
            "[60238, 8310, 50208, 23541, 14657, 5692, 52528, 20080, 1896, 31383, 49644, 49149, 70450, 27202, 52506, 45060, 68928, 35518, 18916, 45060, 5726, 18656, 3481, 69956, 66559, 23541, 14657, 27425, 12582, 9677, 15953, 1896, 24039, 52528, 68928, 14657, 34044, 31383, 32216, 70450, 4887, 64903, 843, 68928, 5995, 42008, 15953, 46926, 37927, 35518, 54492, 14657, 12582, 20617, 15953, 46746, 49149, 36001, 33300, 69956, 10290, 68065, 35451, 42968, 15953, 20617, 46746, 35518, 22198, 14657, 72755, 8310, 5692, 25270, 46746, 27425, 64903, 14474, 32539, 33300, 12582, 46079, 31383, 25150, 33300, 12582, 70369, 65442, 10290, 35518, 24016, 57020, 1559, 68928, 9677, 10050, 15364, 68928, 12582, 20080, 15785, 44233, 70095, 14657, 66361, 64903, 26479, 8604, 70095, 42831, 49000, 42008, 1393, 35518, 46926, 68609, 70095, 8959, 56332, 35518, 6886, 12582, 68444, 42189, 68928, 6886, 35518, 68738, 11712, 24039, 52528, 68928, 48294, 44179, 72244, 5692, 30017, 8604, 51465, 12697, 15953, 27436, 42831, 35045, 1069, 64903, 50448, 72244, 64903, 70890, 50035, 3219, 42008, 19253, 12582, 20617, 49149, 6886, 31383, 12582, 10290, 50675, 54492, 72755, 8310, 5692, 53068, 66261, 64903, 70095, 53618, 12582, 47706, 59915, 63225, 70450, 16784, 33300, 12582, 61511]\n",
            "b'The case functions as advertised. It fits the Nook HD+ well and has access points for all of the on board ports. It provides ample protection with normal use. I would like the hinge portion to be a little stronger but it does the job. The Bluetooth keyboard paired with the Nook on the first try and makes things like email much easier. The kick stand functions well.'\n",
            "[15953, 46079, 17629, 65721, 61231, 29722, 24931, 12582, 67872, 7242, 12727, 68928, 68065, 71073, 71273, 52506, 50208, 8310, 12582, 33300, 65476, 56648, 29722, 3900, 69509, 52169, 8604, 47287, 45209, 35518, 60212, 6886, 12582, 67465, 797, 64903, 3921, 5692, 20080, 5426, 31383, 70095, 48294, 12582, 44298, 15953, 27436, 52375, 47079, 8604, 12582, 67872, 33300, 12582, 62521, 28726, 68928, 24478, 27537, 6886, 62173, 25018, 6635, 15953, 65371, 24031, 17629, 12727]\n",
            "b\"The product was working fine for the first two weeks until the whole casing for the part you plug into the phone broke off leaving the plug it-self inside my phone. Fortunately it came out easily without damaging my phone. I don't recommend this product to anyone. very poorly made\"\n",
            "[15953, 53915, 42831, 38988, 54108, 52506, 12582, 62521, 1559, 70234, 59182, 12582, 2876, 53089, 52506, 12582, 46246, 49149, 42350, 27152, 12582, 3219, 13725, 32539, 37093, 12582, 42350, 70095, 29458, 27734, 70890, 3219, 55653, 70095, 10050, 71171, 45146, 19769, 7142, 70890, 3219, 35518, 57463, 33630, 64348, 23541, 53915, 64903, 68232, 35045, 36363, 26940]\n",
            "b'They r junk'\n",
            "[72103, 23744, 62066]\n"
          ],
          "name": "stdout"
        }
      ]
    },
    {
      "cell_type": "code",
      "metadata": {
        "id": "i651YnjMC4Mh",
        "colab_type": "code",
        "colab": {
          "base_uri": "https://localhost:8080/",
          "height": 68
        },
        "outputId": "aad43440-8aea-4bd9-b78e-1ae3e3488ca6"
      },
      "source": [
        "# USE F-STRINGS TO VISUALIZE THIS BETTER\n",
        "\n",
        "for index in encoded_example:\n",
        "  print('{} ----->{} '.format(index,encoder.decode([index])))"
      ],
      "execution_count": 20,
      "outputs": [
        {
          "output_type": "stream",
          "text": [
            "72103 ----->They \n",
            "23744 ----->r \n",
            "62066 ----->junk \n"
          ],
          "name": "stdout"
        }
      ]
    },
    {
      "cell_type": "markdown",
      "metadata": {
        "id": "_WcGlTGZC4G5",
        "colab_type": "text"
      },
      "source": [
        "So far, we have taken text data **sample** and tokenized it (converted to integer value)\n"
      ]
    },
    {
      "cell_type": "code",
      "metadata": {
        "id": "EEODlhseO6EV",
        "colab_type": "code",
        "colab": {}
      },
      "source": [
        "# FUNCTIONS TO TOKENIZE THE COMPLETE TRAINING DATA (21 min)\n",
        "\n",
        "def encode(text_tensor, label_tensor):\n",
        "  encoded_text = encoder.encode(text_tensor.numpy())\n",
        "  label = tf.where( label_tensor >3 , 1, 0 )\n",
        "  return encoded_text, label\n"
      ],
      "execution_count": 0,
      "outputs": []
    },
    {
      "cell_type": "code",
      "metadata": {
        "id": "Z_TmUo76O6LN",
        "colab_type": "code",
        "colab": {}
      },
      "source": [
        "# \n",
        "\n",
        "def encode_map_fn(tensor):\n",
        "\n",
        "  text = tensor['data'].get('review_body')\n",
        "  label = tensor['data'].get('star_rating')\n",
        "\n",
        "  # THE encode FUNCTION IS CALLED IN THE NEXT STEP\n",
        "  encoded_text, label = tf.py_function(encode, inp= [text,label], Tout= (tf.int64,tf.int32))\n",
        "\n",
        "  encoded_text.set_shape([None])\n",
        "  label.set_shape([])\n",
        "\n",
        "  return encoded_text, label"
      ],
      "execution_count": 0,
      "outputs": []
    },
    {
      "cell_type": "code",
      "metadata": {
        "id": "nkDoBZiOO6Pe",
        "colab_type": "code",
        "colab": {}
      },
      "source": [
        "ar_encoded_data = train_dataset.map(encode_map_fn)"
      ],
      "execution_count": 0,
      "outputs": []
    },
    {
      "cell_type": "code",
      "metadata": {
        "id": "dBlcJuhsO6Jq",
        "colab_type": "code",
        "colab": {
          "base_uri": "https://localhost:8080/",
          "height": 530
        },
        "outputId": "6791c1bc-a037-444b-a543-44671ae85742"
      },
      "source": [
        "# QUICKY CHECKING HOW THE OUTPUT LOOKS LIKE\n",
        "\n",
        "# printing the first and the second feature for the first two records\n",
        "\n",
        "for f0,f1 in ar_encoded_data.take(2):\n",
        "  print(f0)\n",
        "  print(f1)"
      ],
      "execution_count": 24,
      "outputs": [
        {
          "output_type": "stream",
          "text": [
            "tf.Tensor(\n",
            "[ 2002 12727  7140  5692 20080 67342 71068 43072 70095 31459 44998 33040\n",
            " 33630 52528 31383 70890 33200 42831 19068 33300 67409 64665 34245 52506\n",
            " 70890 52248 29722 69966 33630 12582  4491 43950 34245 31383 70095 48294\n",
            "  5692 52528 44298  8310 23789 12582 52248 68928 57741 33630 34245 15649\n",
            " 11759 44955 12498 35518 57463 33630 45209 12582 24031 72244 64388  5745\n",
            " 31383 54492 35793 70095 68928 70095 49103 54108 35518 42831 73094 32872\n",
            " 64903 58449 51727 35518 24016 12582 52248  3481  5692 24870 33300 12582\n",
            " 43458 37945 49644 70095 30173 70095 60212 57108 33300 12582 43458 68928\n",
            " 27425 12582 45787 35518 23429 10520  8604 70890 70897 68974 70890 20617\n",
            " 49941 49017 39397 35518 26933 70095 64903 21836], shape=(116,), dtype=int64)\n",
            "tf.Tensor(1, shape=(), dtype=int32)\n",
            "tf.Tensor(\n",
            "[60238  8310 50208 23541 14657  5692 52528 20080  1896 31383 49644 49149\n",
            " 70450 27202 52506 45060 68928 35518 18916 45060  5726 18656  3481 69956\n",
            " 66559 23541 14657 27425 12582  9677 15953  1896 24039 52528 68928 14657\n",
            " 34044 31383 32216 70450  4887 64903   843 68928  5995 42008 15953 46926\n",
            " 37927 35518 54492 14657 12582 20617 15953 46746 49149 36001 33300 69956\n",
            " 10290 68065 35451 42968 15953 20617 46746 35518 22198 14657 72755  8310\n",
            "  5692 25270 46746 27425 64903 14474 32539 33300 12582 46079 31383 25150\n",
            " 33300 12582 70369 65442 10290 35518 24016 57020  1559 68928  9677 10050\n",
            " 15364 68928 12582 20080 15785 44233 70095 14657 66361 64903 26479  8604\n",
            " 70095 42831 49000 42008  1393 35518 46926 68609 70095  8959 56332 35518\n",
            "  6886 12582 68444 42189 68928  6886 35518 68738 11712 24039 52528 68928\n",
            " 48294 44179 72244  5692 30017  8604 51465 12697 15953 27436 42831 35045\n",
            "  1069 64903 50448 72244 64903 70890 50035  3219 42008 19253 12582 20617\n",
            " 49149  6886 31383 12582 10290 50675 54492 72755  8310  5692 53068 66261\n",
            " 64903 70095 53618 12582 47706 59915 63225 70450 16784 33300 12582 61511], shape=(180,), dtype=int64)\n",
            "tf.Tensor(1, shape=(), dtype=int32)\n"
          ],
          "name": "stdout"
        }
      ]
    },
    {
      "cell_type": "code",
      "metadata": {
        "id": "lwfwwSw9ODUE",
        "colab_type": "code",
        "colab": {}
      },
      "source": [
        "# WE WANT A TEST DATA SIZE OF 10,000 (WHICH IS THE TAKE_SIZE)\n",
        "TAKE_SIZE = 10000\n",
        "\n",
        "# THE DATA IS SHUFFLED (for the reasona described earlier)\n",
        "train_data = ar_encoded_data.skip(TAKE_SIZE).shuffle(BUFFER_SIZE)\n",
        "# THE DATA IS PADDED TO ENSURE THAT ALL THE SEQUENCES IN A BATCH ARE OF EQUAL LEN. RESULTANT LEN = MAX LENGTH\n",
        "train_data = train_data.padded_batch(BATCH_SIZE)\n",
        "\n",
        "\n",
        "# SIMILAR TO WHAT HAS BEEN DONE FOR TRAIN DATA\n",
        "test_data = ar_encoded_data.take(TAKE_SIZE)\n",
        "test_data = test_data.padded_batch(BATCH_SIZE)\n",
        "\n",
        "# NOTE: CUSTOMISED PADDING APPROACHES MAY BE USED (DEPENDS ON THE TEXT)"
      ],
      "execution_count": 0,
      "outputs": []
    },
    {
      "cell_type": "code",
      "metadata": {
        "id": "6v4eohlAODgX",
        "colab_type": "code",
        "colab": {}
      },
      "source": [
        "# INCREMENTING vocab_size BY 1 TO ACCOUNT FOR THE PADDING VARIABLE\n",
        "\n",
        "vocab_size += 1 "
      ],
      "execution_count": 0,
      "outputs": []
    },
    {
      "cell_type": "code",
      "metadata": {
        "id": "FUkRXVQ7ODtg",
        "colab_type": "code",
        "colab": {
          "base_uri": "https://localhost:8080/",
          "height": 680
        },
        "outputId": "b01b9044-9b62-413d-b17a-f007d14fbcfb"
      },
      "source": [
        "# HOW THE OUTPUT LOOKS LIKE AFTER PADDING IS DONE\n",
        "\n",
        "sample_text, sample_labels = next(iter(test_data))\n",
        "\n",
        "sample_text[0], sample_labels[0]"
      ],
      "execution_count": 27,
      "outputs": [
        {
          "output_type": "execute_result",
          "data": {
            "text/plain": [
              "(<tf.Tensor: shape=(334,), dtype=int64, numpy=\n",
              " array([ 2002, 12727,  7140,  5692, 20080, 67342, 71068, 43072, 70095,\n",
              "        31459, 44998, 33040, 33630, 52528, 31383, 70890, 33200, 42831,\n",
              "        19068, 33300, 67409, 64665, 34245, 52506, 70890, 52248, 29722,\n",
              "        69966, 33630, 12582,  4491, 43950, 34245, 31383, 70095, 48294,\n",
              "         5692, 52528, 44298,  8310, 23789, 12582, 52248, 68928, 57741,\n",
              "        33630, 34245, 15649, 11759, 44955, 12498, 35518, 57463, 33630,\n",
              "        45209, 12582, 24031, 72244, 64388,  5745, 31383, 54492, 35793,\n",
              "        70095, 68928, 70095, 49103, 54108, 35518, 42831, 73094, 32872,\n",
              "        64903, 58449, 51727, 35518, 24016, 12582, 52248,  3481,  5692,\n",
              "        24870, 33300, 12582, 43458, 37945, 49644, 70095, 30173, 70095,\n",
              "        60212, 57108, 33300, 12582, 43458, 68928, 27425, 12582, 45787,\n",
              "        35518, 23429, 10520,  8604, 70890, 70897, 68974, 70890, 20617,\n",
              "        49941, 49017, 39397, 35518, 26933, 70095, 64903, 21836,     0,\n",
              "            0,     0,     0,     0,     0,     0,     0,     0,     0,\n",
              "            0,     0,     0,     0,     0,     0,     0,     0,     0,\n",
              "            0,     0,     0,     0,     0,     0,     0,     0,     0,\n",
              "            0,     0,     0,     0,     0,     0,     0,     0,     0,\n",
              "            0,     0,     0,     0,     0,     0,     0,     0,     0,\n",
              "            0,     0,     0,     0,     0,     0,     0,     0,     0,\n",
              "            0,     0,     0,     0,     0,     0,     0,     0,     0,\n",
              "            0,     0,     0,     0,     0,     0,     0,     0,     0,\n",
              "            0,     0,     0,     0,     0,     0,     0,     0,     0,\n",
              "            0,     0,     0,     0,     0,     0,     0,     0,     0,\n",
              "            0,     0,     0,     0,     0,     0,     0,     0,     0,\n",
              "            0,     0,     0,     0,     0,     0,     0,     0,     0,\n",
              "            0,     0,     0,     0,     0,     0,     0,     0,     0,\n",
              "            0,     0,     0,     0,     0,     0,     0,     0,     0,\n",
              "            0,     0,     0,     0,     0,     0,     0,     0,     0,\n",
              "            0,     0,     0,     0,     0,     0,     0,     0,     0,\n",
              "            0,     0,     0,     0,     0,     0,     0,     0,     0,\n",
              "            0,     0,     0,     0,     0,     0,     0,     0,     0,\n",
              "            0,     0,     0,     0,     0,     0,     0,     0,     0,\n",
              "            0,     0,     0,     0,     0,     0,     0,     0,     0,\n",
              "            0,     0,     0,     0,     0,     0,     0,     0,     0,\n",
              "            0,     0,     0,     0,     0,     0,     0,     0,     0,\n",
              "            0,     0,     0,     0,     0,     0,     0,     0,     0,\n",
              "            0,     0,     0,     0,     0,     0,     0,     0,     0,\n",
              "            0])>, <tf.Tensor: shape=(), dtype=int32, numpy=1>)"
            ]
          },
          "metadata": {
            "tags": []
          },
          "execution_count": 27
        }
      ]
    },
    {
      "cell_type": "code",
      "metadata": {
        "id": "4h9CXZfpOD6J",
        "colab_type": "code",
        "colab": {
          "base_uri": "https://localhost:8080/",
          "height": 187
        },
        "outputId": "027faa1c-782f-460e-f242-8638b8ff51db"
      },
      "source": [
        "# A LOOK AT THE TARGET DISTRIBUTION (for the first 10 batches)\n",
        "\n",
        "for f0,f1 in test_data.take(10):\n",
        "  print(tf.unique_with_counts(f1)[2].numpy())"
      ],
      "execution_count": 28,
      "outputs": [
        {
          "output_type": "stream",
          "text": [
            "[86 42]\n",
            "[83 45]\n",
            "[42 86]\n",
            "[49 79]\n",
            "[46 82]\n",
            "[45 83]\n",
            "[97 31]\n",
            "[43 85]\n",
            "[82 46]\n",
            "[45 83]\n"
          ],
          "name": "stdout"
        }
      ]
    },
    {
      "cell_type": "markdown",
      "metadata": {
        "id": "kQBdNE69OD-l",
        "colab_type": "text"
      },
      "source": [
        "Summary:\n",
        "\n",
        "\n",
        "### 4. Building/Executing the Model"
      ]
    },
    {
      "cell_type": "code",
      "metadata": {
        "id": "hn5Rr33rorvG",
        "colab_type": "code",
        "colab": {}
      },
      "source": [
        "keras.backend.clear_session()\n",
        "np.random.seed(42)\n",
        "tf.random.set_seed(42)"
      ],
      "execution_count": 0,
      "outputs": []
    },
    {
      "cell_type": "markdown",
      "metadata": {
        "id": "zOOc3QEbuXNc",
        "colab_type": "text"
      },
      "source": [
        "**Quick Points:**\n",
        "\n",
        "Embedding Layer:\n",
        "1. `input_dim` = size of vocabuary +1 (incl. the padding)\n",
        "2. `output_dim` = dimension of dense embedding. *Colloquially,* No. of Sequences, or `BATCH_SIZE` # Need more clarification\n",
        "3. `input_length` = [OPTIONAL]. Ony needed if the `Flatten` and `Dense` layers will be comnnected upstream \n",
        "4. Input shape to this layer: 2D Tensor with shape `(batch_size, sequence_length)` # Need more clarification\n",
        "5. Output shape to this layer :  3D Tensor of shape `(batch_size, sequences_length, output_dim)` #Need more clarification\n",
        "\n",
        "\n",
        "Bidirectional LSTMs, Why?"
      ]
    },
    {
      "cell_type": "code",
      "metadata": {
        "id": "MSmHgfNROEC7",
        "colab_type": "code",
        "colab": {}
      },
      "source": [
        "# SPECIFYING THE MODEL ARCHITECTURE\n",
        "\n",
        "# how are you specifying the imput shape?\n",
        "# why isn't there a flatten layer between LSTM and Dense layers?\n",
        "\n",
        "# BATCH_SIZE = 128 ; mini batch GD\n",
        "# vocab_size = 73,738 + 1 ; total list of words + pad variable\n",
        "\n",
        "model_1 = tf.keras.Sequential([\n",
        "              keras.layers.Embedding(input_dim = vocab_size, output_dim =  BATCH_SIZE),\n",
        "              keras.layers.Bidirectional(keras.layers.LSTM(128, return_sequences = True)),\n",
        "              #keras.layers.Bidirectional(tf.keras.LSTM(64, return_sequences = True)),\n",
        "              keras.layers.Bidirectional(keras.layers.LSTM(64)),\n",
        "\n",
        "              \n",
        "              keras.layers.Dense(64, activation = \"relu\"),\n",
        "              keras.layers.Dense(64, activation = \"relu\"),\n",
        "              #keras.layers.Dropout(0.2),\n",
        "              \n",
        "              keras.layers.Dense(1) # sigmoid - deliberately not chosen sigmoid\n",
        "                                                      \n",
        "\n",
        "])"
      ],
      "execution_count": 0,
      "outputs": []
    },
    {
      "cell_type": "code",
      "metadata": {
        "id": "rmFLW2_pwd0j",
        "colab_type": "code",
        "colab": {
          "base_uri": "https://localhost:8080/",
          "height": 357
        },
        "outputId": "a4983d93-a71c-4ef4-bbb5-9d54abd54327"
      },
      "source": [
        "model_1.summary()"
      ],
      "execution_count": 70,
      "outputs": [
        {
          "output_type": "stream",
          "text": [
            "Model: \"sequential_1\"\n",
            "_________________________________________________________________\n",
            "Layer (type)                 Output Shape              Param #   \n",
            "=================================================================\n",
            "embedding_1 (Embedding)      (None, None, 128)         9438592   \n",
            "_________________________________________________________________\n",
            "bidirectional_2 (Bidirection (None, None, 256)         263168    \n",
            "_________________________________________________________________\n",
            "bidirectional_3 (Bidirection (None, 128)               164352    \n",
            "_________________________________________________________________\n",
            "dense_3 (Dense)              (None, 64)                8256      \n",
            "_________________________________________________________________\n",
            "dense_4 (Dense)              (None, 64)                4160      \n",
            "_________________________________________________________________\n",
            "dense_5 (Dense)              (None, 1)                 65        \n",
            "=================================================================\n",
            "Total params: 9,878,593\n",
            "Trainable params: 9,878,593\n",
            "Non-trainable params: 0\n",
            "_________________________________________________________________\n"
          ],
          "name": "stdout"
        }
      ]
    },
    {
      "cell_type": "code",
      "metadata": {
        "id": "d4pRHpIqwdq8",
        "colab_type": "code",
        "colab": {}
      },
      "source": [
        "# REMOVING TEMP LOGS\n",
        "\n",
        "# unsure if this is needed now\n",
        "\n",
        "#!rm -r /tmp/logs/"
      ],
      "execution_count": 0,
      "outputs": []
    },
    {
      "cell_type": "code",
      "metadata": {
        "id": "o6ODqJ3EFJ45",
        "colab_type": "code",
        "colab": {
          "base_uri": "https://localhost:8080/",
          "height": 34
        },
        "outputId": "b44c4595-7e9e-4758-e1e4-7c9a72ff6373"
      },
      "source": [
        "# COLAB GOOGLE DRIVE INTEGRATION \n",
        "\n",
        "# ONE TIME TASK, HENCE COMMENTED OUT\n",
        "\n",
        "# from google.colab import drive\n",
        "# drive.mount('/content/gdrive')\n",
        "\n",
        "os.chdir('/content/gdrive/My Drive/models/')\n",
        "os.getcwd()\n",
        "\n"
      ],
      "execution_count": 71,
      "outputs": [
        {
          "output_type": "execute_result",
          "data": {
            "text/plain": [
              "'/content/gdrive/My Drive/models'"
            ]
          },
          "metadata": {
            "tags": []
          },
          "execution_count": 71
        }
      ]
    },
    {
      "cell_type": "code",
      "metadata": {
        "id": "E1vxqu3VsGPu",
        "colab_type": "code",
        "colab": {
          "base_uri": "https://localhost:8080/",
          "height": 34
        },
        "outputId": "ccbb2131-56b7-4d20-aa8f-94d6cf622694"
      },
      "source": [
        "# LIST OF ALL FILES & FOLDERS IN THE DIRECTORY\n",
        "\n",
        "os.listdir(\"../models/\")"
      ],
      "execution_count": 72,
      "outputs": [
        {
          "output_type": "execute_result",
          "data": {
            "text/plain": [
              "['final_sentiment_analysis.hdf5', 'amazon_reviews']"
            ]
          },
          "metadata": {
            "tags": []
          },
          "execution_count": 72
        }
      ]
    },
    {
      "cell_type": "code",
      "metadata": {
        "id": "VRjEwCy60oP8",
        "colab_type": "code",
        "colab": {}
      },
      "source": [
        "# CREATING A LOG DIRECTORY FOR MODEL OUTPUTS\n",
        "\n",
        "logdir = os.path.join(\"../models/amazon_reviews/logs\", datetime.datetime.now().strftime(\"%Y%m%d-%H%M%S\"))\n"
      ],
      "execution_count": 0,
      "outputs": []
    },
    {
      "cell_type": "code",
      "metadata": {
        "id": "bBJILiqN1gWZ",
        "colab_type": "code",
        "colab": {}
      },
      "source": [
        "\n",
        "tensorboard_callback = tf.keras.callbacks.TensorBoard(logdir, histogram_freq = 1)"
      ],
      "execution_count": 0,
      "outputs": []
    },
    {
      "cell_type": "code",
      "metadata": {
        "id": "iEn_GpPx1gdo",
        "colab_type": "code",
        "colab": {}
      },
      "source": [
        "# SAVING THE BEST MODEL\n",
        "\n",
        "# unable to get this checkpoint to work\n",
        "\n",
        "checkpoint = keras.callbacks.ModelCheckpoint(filepath = '../models/amazon_reviews/model_1_best_version.hdf5',\n",
        "                                                verbose= 1, monitor = 'val_accuracy' ,save_best_only= True)"
      ],
      "execution_count": 0,
      "outputs": []
    },
    {
      "cell_type": "code",
      "metadata": {
        "id": "NKZFKATm1giQ",
        "colab_type": "code",
        "colab": {}
      },
      "source": [
        "# COMPILE THE MODEL\n",
        "\n",
        "model_1.compile(optimizer = \"adam\", loss = keras.losses.BinaryCrossentropy(from_logits= True),\n",
        "                metrics = ['accuracy'])"
      ],
      "execution_count": 0,
      "outputs": []
    },
    {
      "cell_type": "code",
      "metadata": {
        "id": "yttd0iv01grG",
        "colab_type": "code",
        "colab": {
          "base_uri": "https://localhost:8080/",
          "height": 173
        },
        "outputId": "b94503a7-919a-4299-a13e-1271a52c079a"
      },
      "source": [
        "# FITTING THE MODEL\n",
        "\n",
        "# we don't have a separate validation set, needs to be implemented in V2\n",
        "\n",
        "history = model_1.fit(train_data, epochs = 4, validation_data = test_data,\n",
        "                      callacks = [tensorboard_callback, checkpoint]\n",
        "                      )"
      ],
      "execution_count": 77,
      "outputs": [
        {
          "output_type": "stream",
          "text": [
            "Epoch 1/4\n",
            "742/742 [==============================] - 270s 364ms/step - loss: 0.3446 - accuracy: 0.8446 - val_loss: 0.2793 - val_accuracy: 0.8844\n",
            "Epoch 2/4\n",
            "742/742 [==============================] - 268s 362ms/step - loss: 0.2384 - accuracy: 0.9021 - val_loss: 0.2653 - val_accuracy: 0.8886\n",
            "Epoch 3/4\n",
            "742/742 [==============================] - 269s 363ms/step - loss: 0.1912 - accuracy: 0.9229 - val_loss: 0.2773 - val_accuracy: 0.8866\n",
            "Epoch 4/4\n",
            "742/742 [==============================] - 270s 364ms/step - loss: 0.1539 - accuracy: 0.9401 - val_loss: 0.2825 - val_accuracy: 0.8894\n"
          ],
          "name": "stdout"
        }
      ]
    },
    {
      "cell_type": "code",
      "metadata": {
        "id": "ekQ3HFcf92tR",
        "colab_type": "code",
        "colab": {
          "base_uri": "https://localhost:8080/",
          "height": 34
        },
        "outputId": "d1fd3895-344a-4a17-bb6b-f7a60fceee56"
      },
      "source": [
        "# SAVING & LOADING THE MODEL\n",
        "\n",
        "# SAVING THE LAST EPOCH (MAY NOT BE THE BEST) MODEL - NOT RECOMMENDED\n",
        "try:\n",
        "  model_1.save('../models/amazon_reviews/model_1.hdf5')\n",
        "  print(\"Model saved successfully !\")\n",
        "except:\n",
        "  print(\"Error ! Couldn't save the model\")\n",
        "\n",
        "# LOADING A SAVED MODEL \n",
        "#new_model = keras.models.load_model('../models/amazon_reviews/model_1.hdf5')\n",
        "\n",
        "#new_model.evaluate(test_data)"
      ],
      "execution_count": 78,
      "outputs": [
        {
          "output_type": "stream",
          "text": [
            "Model saved successfully !\n"
          ],
          "name": "stdout"
        }
      ]
    },
    {
      "cell_type": "code",
      "metadata": {
        "id": "BGzXS9Aq1gwN",
        "colab_type": "code",
        "colab": {
          "base_uri": "https://localhost:8080/",
          "height": 502
        },
        "outputId": "264c58d2-4399-4404-e758-cd0817a1d085"
      },
      "source": [
        "# TRAINING AND VALIDATION CURVES\n",
        "\n",
        "import pandas as pd\n",
        "\n",
        "pd.DataFrame(history.history).plot(figsize = (12,8))\n",
        "plt.title(\"Training and Validation Curve\")\n",
        "plt.grid(True)\n",
        "plt.gca().set_ylim(0, 1)\n",
        "plt.show()\n"
      ],
      "execution_count": 61,
      "outputs": [
        {
          "output_type": "display_data",
          "data": {
            "image/png": "[encoded data removed]",
            "text/plain": [
              "<Figure size 864x576 with 1 Axes>"
            ]
          },
          "metadata": {
            "tags": []
          }
        }
      ]
    },
    {
      "cell_type": "code",
      "metadata": {
        "id": "cLuo-P1G1g0r",
        "colab_type": "code",
        "colab": {
          "base_uri": "https://localhost:8080/",
          "height": 51
        },
        "outputId": "e7aa9f38-0fba-4cac-8f7e-744f46ffe4cd"
      },
      "source": [
        "# EVALUATING MODEL ON TEST DATA\n",
        "\n",
        "model_1.evaluate(test_data)"
      ],
      "execution_count": 79,
      "outputs": [
        {
          "output_type": "stream",
          "text": [
            "79/79 [==============================] - 14s 181ms/step - loss: 0.2825 - accuracy: 0.8894\n"
          ],
          "name": "stdout"
        },
        {
          "output_type": "execute_result",
          "data": {
            "text/plain": [
              "[0.28246352076530457, 0.8894000053405762]"
            ]
          },
          "metadata": {
            "tags": []
          },
          "execution_count": 79
        }
      ]
    },
    {
      "cell_type": "code",
      "metadata": {
        "id": "ki_gJ1a2RlS7",
        "colab_type": "code",
        "colab": {
          "base_uri": "https://localhost:8080/",
          "height": 1000
        },
        "outputId": "a4967ab1-964a-4587-ba46-17a46c6a68f1"
      },
      "source": [
        "# FOR THE 1ST BATCH, GETTING ACTUALS VS. PREDICTED\n",
        "\n",
        "for f0,f1 in test_data.take(1):\n",
        "  print(f1) # ACTUAL LABELS\n",
        "  print(model_1.predict(f0)) # PREDICTED LABELS"
      ],
      "execution_count": 80,
      "outputs": [
        {
          "output_type": "stream",
          "text": [
            "tf.Tensor(\n",
            "[1 1 1 0 0 1 0 1 1 1 1 1 0 1 1 0 1 1 0 1 1 0 1 1 1 0 1 1 0 1 1 1 1 0 1 1 1\n",
            " 1 1 1 1 0 0 0 0 1 0 0 1 1 1 1 1 1 1 0 1 0 1 1 1 0 1 0 1 1 1 0 1 1 1 0 0 1\n",
            " 1 1 0 1 0 1 1 0 1 1 0 0 0 1 1 0 1 0 1 0 1 0 1 1 0 0 1 1 1 1 1 1 1 1 0 1 1\n",
            " 0 1 0 1 0 0 1 1 0 1 1 1 1 1 1 1 0], shape=(128,), dtype=int32)\n",
            "[[ 5.508557  ]\n",
            " [ 1.3464233 ]\n",
            " [ 4.327487  ]\n",
            " [-2.9006252 ]\n",
            " [-4.9546866 ]\n",
            " [ 4.290317  ]\n",
            " [-6.9611406 ]\n",
            " [ 6.5510287 ]\n",
            " [ 4.9016633 ]\n",
            " [ 5.1762767 ]\n",
            " [ 3.4483845 ]\n",
            " [ 5.6966376 ]\n",
            " [-3.92148   ]\n",
            " [ 4.2923574 ]\n",
            " [ 3.6824882 ]\n",
            " [-3.9144773 ]\n",
            " [ 3.4217014 ]\n",
            " [ 5.065005  ]\n",
            " [ 4.33899   ]\n",
            " [ 0.9974472 ]\n",
            " [ 5.1792054 ]\n",
            " [-0.73150474]\n",
            " [ 4.369603  ]\n",
            " [-1.3048934 ]\n",
            " [ 0.683337  ]\n",
            " [-7.325704  ]\n",
            " [ 5.49012   ]\n",
            " [ 4.980684  ]\n",
            " [-2.704315  ]\n",
            " [ 6.1290402 ]\n",
            " [ 5.8597603 ]\n",
            " [ 0.02224104]\n",
            " [ 3.8220608 ]\n",
            " [-6.8725576 ]\n",
            " [ 5.123527  ]\n",
            " [ 5.0854926 ]\n",
            " [ 6.4982514 ]\n",
            " [ 5.6125627 ]\n",
            " [ 5.6422276 ]\n",
            " [ 5.502891  ]\n",
            " [ 2.686019  ]\n",
            " [-1.6420789 ]\n",
            " [-2.987428  ]\n",
            " [ 1.4388939 ]\n",
            " [-4.80111   ]\n",
            " [ 0.8282491 ]\n",
            " [-3.483059  ]\n",
            " [-6.9610105 ]\n",
            " [ 5.149615  ]\n",
            " [ 5.4836063 ]\n",
            " [ 0.72974324]\n",
            " [ 3.3881214 ]\n",
            " [ 3.834887  ]\n",
            " [ 1.6506708 ]\n",
            " [ 3.884956  ]\n",
            " [-7.6087766 ]\n",
            " [ 1.813527  ]\n",
            " [-2.6681738 ]\n",
            " [ 4.840705  ]\n",
            " [ 2.0224433 ]\n",
            " [ 4.838779  ]\n",
            " [-1.8093013 ]\n",
            " [ 5.248462  ]\n",
            " [-5.2916713 ]\n",
            " [ 5.4127374 ]\n",
            " [ 5.0595155 ]\n",
            " [ 3.2291956 ]\n",
            " [-2.428155  ]\n",
            " [ 5.3166046 ]\n",
            " [ 6.223473  ]\n",
            " [ 6.298673  ]\n",
            " [-3.7418969 ]\n",
            " [-7.3940444 ]\n",
            " [ 4.5091496 ]\n",
            " [ 4.4628935 ]\n",
            " [ 6.1841626 ]\n",
            " [ 2.8257403 ]\n",
            " [ 6.3236465 ]\n",
            " [-3.3745162 ]\n",
            " [ 2.1320202 ]\n",
            " [ 4.8702345 ]\n",
            " [-8.344877  ]\n",
            " [ 1.6397437 ]\n",
            " [ 4.961032  ]\n",
            " [-2.0495918 ]\n",
            " [-5.2006574 ]\n",
            " [-2.6723843 ]\n",
            " [-1.4569904 ]\n",
            " [ 4.7605333 ]\n",
            " [ 2.1561766 ]\n",
            " [ 5.15365   ]\n",
            " [-6.1108127 ]\n",
            " [ 3.8450925 ]\n",
            " [-2.872873  ]\n",
            " [ 5.292273  ]\n",
            " [-3.688787  ]\n",
            " [ 3.9608803 ]\n",
            " [ 3.8842137 ]\n",
            " [-6.167644  ]\n",
            " [ 0.01625957]\n",
            " [-1.983669  ]\n",
            " [ 6.1771674 ]\n",
            " [ 4.37487   ]\n",
            " [ 5.1870584 ]\n",
            " [ 0.7628005 ]\n",
            " [ 4.5269914 ]\n",
            " [ 6.2385883 ]\n",
            " [ 6.8497696 ]\n",
            " [-2.3667552 ]\n",
            " [ 5.0456476 ]\n",
            " [ 4.4262214 ]\n",
            " [-7.480951  ]\n",
            " [ 4.6483493 ]\n",
            " [-3.672997  ]\n",
            " [ 4.3229556 ]\n",
            " [-2.5136878 ]\n",
            " [-5.2002177 ]\n",
            " [ 3.5880554 ]\n",
            " [ 2.9706538 ]\n",
            " [-7.3196588 ]\n",
            " [ 1.0138794 ]\n",
            " [ 5.569361  ]\n",
            " [ 5.1441903 ]\n",
            " [ 4.6300926 ]\n",
            " [ 4.1634297 ]\n",
            " [ 3.3632476 ]\n",
            " [ 4.1130776 ]\n",
            " [-3.3654807 ]]\n"
          ],
          "name": "stdout"
        }
      ]
    },
    {
      "cell_type": "code",
      "metadata": {
        "id": "htefQp98wq9n",
        "colab_type": "code",
        "colab": {}
      },
      "source": [
        "# PERFORMING INFERENCE ON THE MODEL\n",
        "\n",
        "def pad_to_size(vec,size):\n",
        "  zeros = [0] * (size - len(vec))\n",
        "  vec.extend(zeros)\n",
        "  return vec"
      ],
      "execution_count": 0,
      "outputs": []
    },
    {
      "cell_type": "code",
      "metadata": {
        "id": "K48Cfk_PxDKf",
        "colab_type": "code",
        "colab": {}
      },
      "source": [
        "# INFERENCE FUNCTION; AKES IN 'PLAIN ENGLISH TEXT'\n",
        "\n",
        "def predict_fn(pred_txt, model):\n",
        "  encoded_pred_txt = encoder.encode(pred_txt)\n",
        "  print(encoded_pred_txt)\n",
        "  print(\"\\n\")\n",
        "\n",
        "  encoded_pred_txt = pad_to_size(encoded_pred_txt,32)\n",
        "  print(encoded_pred_txt)\n",
        "\n",
        "  encoded_pred_txt = tf.cast(encoded_pred_txt,tf.float32)\n",
        "  predictions = model.predict(tf.expand_dims(encoded_pred_txt,0))\n",
        "\n",
        "  return predictions"
      ],
      "execution_count": 0,
      "outputs": []
    },
    {
      "cell_type": "code",
      "metadata": {
        "id": "-XBqDcyp3NCj",
        "colab_type": "code",
        "colab": {
          "base_uri": "https://localhost:8080/",
          "height": 122
        },
        "outputId": "5401b926-8e47-442d-fd77-d36c06c468a0"
      },
      "source": [
        "# EXECUTING THE INFERENCE FUNCTION (e.g 1)\n",
        "\n",
        "pred_txt = ('This watch is pretty bad. Color and dial look pathetic')\n",
        "\n",
        "predictions = predict_fn(pred_txt, model_1)\n",
        "\n",
        "print(predictions)"
      ],
      "execution_count": 90,
      "outputs": [
        {
          "output_type": "stream",
          "text": [
            "[60956, 35813, 14657, 71501, 38609, 15864, 68928, 7209, 53196, 56443]\n",
            "\n",
            "\n",
            "[60956, 35813, 14657, 71501, 38609, 15864, 68928, 7209, 53196, 56443, 0, 0, 0, 0, 0, 0, 0, 0, 0, 0, 0, 0, 0, 0, 0, 0, 0, 0, 0, 0, 0, 0]\n",
            "[[-3.4598305]]\n"
          ],
          "name": "stdout"
        }
      ]
    },
    {
      "cell_type": "code",
      "metadata": {
        "id": "oKzYm-iH7a7e",
        "colab_type": "code",
        "colab": {
          "base_uri": "https://localhost:8080/",
          "height": 122
        },
        "outputId": "bdd8350e-eeb1-4cb0-e1be-c9403743dc58"
      },
      "source": [
        "# EXECUTING THE INFERENCE FUNCTION (e.g 2)\n",
        "\n",
        "pred_txt = ('Color and Dial not as advertised. Not super happy')\n",
        "\n",
        "predictions = predict_fn(pred_txt, model_1)\n",
        "\n",
        "print(predictions)"
      ],
      "execution_count": 94,
      "outputs": [
        {
          "output_type": "stream",
          "text": [
            "[15864, 68928, 32632, 27425, 65721, 61231, 24304, 47699, 10520]\n",
            "\n",
            "\n",
            "[15864, 68928, 32632, 27425, 65721, 61231, 24304, 47699, 10520, 0, 0, 0, 0, 0, 0, 0, 0, 0, 0, 0, 0, 0, 0, 0, 0, 0, 0, 0, 0, 0, 0, 0]\n",
            "[[-4.211573]]\n"
          ],
          "name": "stdout"
        }
      ]
    },
    {
      "cell_type": "code",
      "metadata": {
        "id": "0xUeEHjF4hu0",
        "colab_type": "code",
        "colab": {
          "base_uri": "https://localhost:8080/",
          "height": 122
        },
        "outputId": "634e2ecb-d1e6-4499-e8da-68dd707a7f30"
      },
      "source": [
        "# EXECUTING THE INFERENCE FUNCTION (e.g 3)\n",
        "\n",
        "pred_txt = ('Amazing Product. Fast Delivery. Nice Packing')\n",
        "\n",
        "predictions = predict_fn(pred_txt, model_1)\n",
        "\n",
        "print(predictions)"
      ],
      "execution_count": 92,
      "outputs": [
        {
          "output_type": "stream",
          "text": [
            "[47890, 35361, 5299, 47356, 8492, 11992]\n",
            "\n",
            "\n",
            "[47890, 35361, 5299, 47356, 8492, 11992, 0, 0, 0, 0, 0, 0, 0, 0, 0, 0, 0, 0, 0, 0, 0, 0, 0, 0, 0, 0, 0, 0, 0, 0, 0, 0]\n",
            "[[6.498644]]\n"
          ],
          "name": "stdout"
        }
      ]
    },
    {
      "cell_type": "code",
      "metadata": {
        "id": "PNsNzpUU4h6o",
        "colab_type": "code",
        "colab": {
          "base_uri": "https://localhost:8080/",
          "height": 122
        },
        "outputId": "eb534ca4-fa85-472f-c737-de9a4be32d4a"
      },
      "source": [
        "# EXECUTING THE INFERENCE FUNCTION (e.g 4)\n",
        "\n",
        "pred_txt = ('Nice Product. Packing could have been better')\n",
        "\n",
        "predictions = predict_fn(pred_txt, model_1)\n",
        "\n",
        "print(predictions)"
      ],
      "execution_count": 93,
      "outputs": [
        {
          "output_type": "stream",
          "text": [
            "[8492, 35361, 11992, 31190, 54492, 35451, 5778]\n",
            "\n",
            "\n",
            "[8492, 35361, 11992, 31190, 54492, 35451, 5778, 0, 0, 0, 0, 0, 0, 0, 0, 0, 0, 0, 0, 0, 0, 0, 0, 0, 0, 0, 0, 0, 0, 0, 0, 0]\n",
            "[[2.17375]]\n"
          ],
          "name": "stdout"
        }
      ]
    },
    {
      "cell_type": "markdown",
      "metadata": {
        "id": "pXNaEP7J1g8L",
        "colab_type": "text"
      },
      "source": [
        "**Comments**\n",
        "1. The model (final epoch) seems to be overfitting. The 2nd and 3rd epochs seem to be the best performing ones \n",
        "2. Will be attemptng strategies to reduce overfitting in the next section"
      ]
    },
    {
      "cell_type": "code",
      "metadata": {
        "id": "-C5397w8DMfQ",
        "colab_type": "code",
        "colab": {
          "base_uri": "https://localhost:8080/",
          "height": 34
        },
        "outputId": "dd0a51f8-03ee-42d3-99f3-867278e1ef09"
      },
      "source": [
        "# CHECKING THE models/amazon_reviews DIRECTORY FOR THE VERSIONS OF THE MODEL\n",
        "#!ls -alrt /models/amazon_reviews"
      ],
      "execution_count": 63,
      "outputs": [
        {
          "output_type": "stream",
          "text": [
            "ls: cannot access '/models/amazon_reviews': No such file or directory\n"
          ],
          "name": "stdout"
        }
      ]
    },
    {
      "cell_type": "code",
      "metadata": {
        "id": "o5bxyc2h1g5K",
        "colab_type": "code",
        "colab": {}
      },
      "source": [
        "# LOADING THE BEST VERSION OF THE MODEL\n",
        "\n",
        "#model_1_best = keras.models.load_model(filepath = '/amazon_reviews/model1_best_version.hdf5')"
      ],
      "execution_count": 0,
      "outputs": []
    },
    {
      "cell_type": "code",
      "metadata": {
        "id": "7_EO9bNo1gpb",
        "colab_type": "code",
        "colab": {}
      },
      "source": [
        "# EVALUTING THE \"BEST\" MODEL ON TEST DATA\n",
        "\n",
        "#model1_best.evaluate(test_data)"
      ],
      "execution_count": 0,
      "outputs": []
    },
    {
      "cell_type": "code",
      "metadata": {
        "id": "KJcixIqITASH",
        "colab_type": "code",
        "colab": {}
      },
      "source": [
        "# HOW MUCH GPU MEMORY HAS BEEN USED\n",
        "\n",
        "!nvidia-smi"
      ],
      "execution_count": 0,
      "outputs": []
    },
    {
      "cell_type": "code",
      "metadata": {
        "id": "EkQ9MkQZTK6M",
        "colab_type": "code",
        "colab": {}
      },
      "source": [
        ""
      ],
      "execution_count": 0,
      "outputs": []
    },
    {
      "cell_type": "markdown",
      "metadata": {
        "id": "BeaSDNId1gmQ",
        "colab_type": "text"
      },
      "source": [
        "### 5. Tuning the Model"
      ]
    },
    {
      "cell_type": "code",
      "metadata": {
        "id": "XL4DP3c__IU7",
        "colab_type": "code",
        "colab": {}
      },
      "source": [
        ""
      ],
      "execution_count": 0,
      "outputs": []
    }
  ]
}